{
 "cells": [
  {
   "cell_type": "markdown",
   "id": "93e69f65",
   "metadata": {},
   "source": [
    "# Particle Swarp Optimization Portfolio Optimization"
   ]
  },
  {
   "cell_type": "code",
   "execution_count": 1,
   "id": "ae67c4e0",
   "metadata": {},
   "outputs": [],
   "source": [
    "import pandas as pd\n",
    "import numpy as np\n",
    "import matplotlib.pyplot as plt\n",
    "from pathlib import Path\n",
    "from pop.experiment.pso.pso_experiment_executor import PSOExperimentExecutor\n",
    "from pop.experiment.experiment_loader import ExperimentLoader\n",
    "from pop.dataset.dataset_manager import DatasetManager"
   ]
  },
  {
   "cell_type": "markdown",
   "id": "71e46cfa",
   "metadata": {},
   "source": [
    "## Experiment Configuration"
   ]
  },
  {
   "cell_type": "code",
   "execution_count": 2,
   "id": "d92ee397",
   "metadata": {},
   "outputs": [],
   "source": [
    "num_exp = 1\n",
    "\n",
    "# Paths\n",
    "CONFIG_PATH = f\"experiments/configurations/pso/experiment_{num_exp}.csv\"\n",
    "RESULTS_PATH = \"experiments/results/pso\"\n",
    "\n",
    "# Ensure results directory exists\n",
    "Path(RESULTS_PATH).mkdir(parents=True, exist_ok=True)\n",
    "\n",
    "# Initialize DatasetManager\n",
    "dataset_manager = DatasetManager(\"experiments/subdatasets\")\n",
    "\n",
    "# Load PSO experiments\n",
    "pso_experiments = ExperimentLoader.load_experiments(CONFIG_PATH)\n",
    "\n",
    "# Initialize PSO Experiment Executor\n",
    "pso_executor = PSOExperimentExecutor(dataset_manager)"
   ]
  },
  {
   "cell_type": "markdown",
   "id": "9cbe92fd",
   "metadata": {},
   "source": [
    "## Run one execution"
   ]
  },
  {
   "cell_type": "code",
   "execution_count": 3,
   "id": "742c7d3f",
   "metadata": {},
   "outputs": [
    {
     "name": "stdout",
     "output_type": "stream",
     "text": [
      "Running a single PSO experiment...\n",
      "Experiment result: {'dataset_name': 'high_10_companies', 'pop_size': 100, 'max_iterations': 50, 'inertia_weight': 0.7, 'cognitive_rate': 1.5, 'social_rate': 1.5, 'repair_method': 'normalize', 'seed': 42, 'sharpe_ratio': np.float64(1.2613375826114417), 'convergence_history': [np.float64(1.1360773602787402), np.float64(1.169276306037115), np.float64(1.2046150846888461), np.float64(1.2366030005782744), np.float64(1.2556386921967118), np.float64(1.2613375826114417), np.float64(1.2613375826114417), np.float64(1.2613375826114417), np.float64(1.2613375826114417), np.float64(1.2613375826114417), np.float64(1.2613375826114417), np.float64(1.2613375826114417), np.float64(1.2613375826114417), np.float64(1.2613375826114417), np.float64(1.2613375826114417), np.float64(1.2613375826114417), np.float64(1.2613375826114417), np.float64(1.2613375826114417), np.float64(1.2613375826114417), np.float64(1.2613375826114417), np.float64(1.2613375826114417), np.float64(1.2613375826114417), np.float64(1.2613375826114417), np.float64(1.2613375826114417), np.float64(1.2613375826114417), np.float64(1.2613375826114417), np.float64(1.2613375826114417), np.float64(1.2613375826114417), np.float64(1.2613375826114417), np.float64(1.2613375826114417), np.float64(1.2613375826114417), np.float64(1.2613375826114417), np.float64(1.2613375826114417), np.float64(1.2613375826114417), np.float64(1.2613375826114417), np.float64(1.2613375826114417), np.float64(1.2613375826114417), np.float64(1.2613375826114417), np.float64(1.2613375826114417), np.float64(1.2613375826114417), np.float64(1.2613375826114417), np.float64(1.2613375826114417), np.float64(1.2613375826114417), np.float64(1.2613375826114417), np.float64(1.2613375826114417), np.float64(1.2613375826114417), np.float64(1.2613375826114417), np.float64(1.2613375826114417), np.float64(1.2613375826114417), np.float64(1.2613375826114417), np.float64(1.2613375826114417)]}\n"
     ]
    }
   ],
   "source": [
    "# Run a single experiment\n",
    "if pso_experiments:\n",
    "    print(\"Running a single PSO experiment...\")\n",
    "    result = pso_executor.run_single_experiment(pso_experiments[0], seed=42)\n",
    "    print(f\"Experiment result: {result}\")\n",
    "else:\n",
    "    print(\"No experiments found to run.\")"
   ]
  },
  {
   "cell_type": "markdown",
   "id": "75a3dc21",
   "metadata": {},
   "source": [
    "## Save results"
   ]
  },
  {
   "cell_type": "code",
   "execution_count": 4,
   "id": "2710d3a0",
   "metadata": {},
   "outputs": [
    {
     "name": "stdout",
     "output_type": "stream",
     "text": [
      "Results saved to experiments/results/pso/experiment_1_1_iterations.csv\n"
     ]
    }
   ],
   "source": [
    "# Set number of runs\n",
    "num_runs = 1\n",
    "\n",
    "# Save results to a CSV file\n",
    "results_df = pd.DataFrame(pso_executor.results)\n",
    "\n",
    "# Define the results file path dynamically\n",
    "results_file = f\"{RESULTS_PATH}/experiment_{num_exp}_{num_runs}_iterations.csv\"\n",
    "\n",
    "# Save the DataFrame to CSV\n",
    "results_df.to_csv(results_file, index=False)\n",
    "\n",
    "# Print confirmation message\n",
    "print(f\"Results saved to {results_file}\")"
   ]
  },
  {
   "cell_type": "markdown",
   "id": "a2572c2a",
   "metadata": {},
   "source": [
    "## Visualize fitness evolution"
   ]
  },
  {
   "cell_type": "code",
   "execution_count": null,
   "id": "5cd2a3ca",
   "metadata": {},
   "outputs": [],
   "source": [
    "# Plot fitness evolution for each experiment\n",
    "for result in pso_executor.results:\n",
    "    plt.plot(result['convergence_history'], label=f\"Experiment {result['experiment_id']}\")\n",
    "\n",
    "# Add labels and title\n",
    "plt.title(f\"PSO Fitness Evolution ({num_runs} Iterations)\")\n",
    "plt.xlabel(\"Generations\")\n",
    "plt.ylabel(\"Fitness\")\n",
    "plt.legend()"
   ]
  },
  {
   "cell_type": "code",
   "execution_count": null,
   "id": "e33ce47e",
   "metadata": {},
   "outputs": [],
   "source": [
    "# Save the plot\n",
    "results_file = f\"{RESULTS_PATH}/experiment_{num_exp}_{num_runs}_iterations.png\"\n",
    "plt.savefig(results_file)\n",
    "plt.clf()\n",
    "\n",
    "print(f\"Fitness evolution plot saved to {results_file}\")"
   ]
  },
  {
   "cell_type": "markdown",
   "id": "6f000c54",
   "metadata": {},
   "source": [
    "## Visualize diversity evolution"
   ]
  },
  {
   "cell_type": "code",
   "execution_count": null,
   "id": "6a27e6aa",
   "metadata": {},
   "outputs": [],
   "source": [
    "# Plot diversity evolution\n",
    "for result in pso_executor.results:\n",
    "    if 'diversity_history' in result:\n",
    "        plt.plot(result['diversity_history'], label=f\"Experiment {result.get('experiment_id', 'N/A')}\")\n",
    "\n",
    "# Add labels and title\n",
    "plt.title(f\"PSO Diversity Evolution ({num_runs} Iterations)\")\n",
    "plt.xlabel(\"Generations\")\n",
    "plt.ylabel(\"Diversity\")\n",
    "plt.legend()"
   ]
  },
  {
   "cell_type": "code",
   "execution_count": null,
   "id": "e18af191",
   "metadata": {},
   "outputs": [],
   "source": [
    "# Save the plot\n",
    "results_file = f\"{RESULTS_PATH}/experiment_{num_exp}_{num_runs}_diversity.png\"\n",
    "plt.savefig(results_file)\n",
    "plt.clf()\n",
    "\n",
    "print(f\"Diversity plot saved to {results_file}\")"
   ]
  },
  {
   "cell_type": "markdown",
   "id": "50978329",
   "metadata": {},
   "source": [
    "## Repeat experiment several times"
   ]
  },
  {
   "cell_type": "code",
   "execution_count": null,
   "id": "4aac90aa",
   "metadata": {},
   "outputs": [],
   "source": [
    "# Run a single experiment 10 times\n",
    "num_runs = 10\n",
    "\n",
    "if pso_experiments:\n",
    "    print(f\"Running PSO experiment {num_runs} times...\")\n",
    "    repeated_results = pso_executor.run_repeated_experiment(pso_experiments[0], num_runs=num_runs)\n",
    "\n",
    "    # Analyze repeated results\n",
    "    fitness_values = [result['sharpe_ratio'] for result in repeated_results]\n",
    "\n",
    "    # Print key performance metrics\n",
    "    print(f\"Best fitness: {max(fitness_values):.4f}\")\n",
    "    print(f\"Mean fitness: {np.mean(fitness_values):.4f} ± {np.std(fitness_values):.4f}\")\n",
    "else:\n",
    "    print(\"No experiments found to run.\")\n"
   ]
  },
  {
   "cell_type": "code",
   "execution_count": null,
   "id": "cbd90ea0",
   "metadata": {},
   "outputs": [],
   "source": [
    "# Save repeated results\n",
    "results_df = pd.DataFrame(repeated_results)\n",
    "results_file = f\"{RESULTS_PATH}/experiment_{num_exp}_{num_runs}_runs.csv\"\n",
    "results_df.to_csv(results_file, index=False)\n",
    "\n",
    "print(f\"Repeated results saved to {results_file}\")"
   ]
  },
  {
   "cell_type": "markdown",
   "id": "8ab240b0",
   "metadata": {},
   "source": [
    "## Run all experiments"
   ]
  },
  {
   "cell_type": "code",
   "execution_count": null,
   "id": "e60c8cd0",
   "metadata": {},
   "outputs": [],
   "source": [
    "# Run all experiments 31 times\n",
    "num_runs = 31\n",
    "\n",
    "if pso_experiments:\n",
    "    print(f\"Running all PSO experiments with {num_runs} iterations...\")\n",
    "    pso_executor.run_all_experiments(pso_experiments, num_runs=num_runs)\n",
    "else:\n",
    "    print(\"No experiments found to run.\")\n"
   ]
  },
  {
   "cell_type": "code",
   "execution_count": null,
   "id": "c60f3ed4",
   "metadata": {},
   "outputs": [],
   "source": [
    "# Save all results\n",
    "results_df = pd.DataFrame(pso_executor.results)\n",
    "results_file = f\"{RESULTS_PATH}/pso_results_{num_runs}_iterations.csv\"\n",
    "results_df.to_csv(results_file, index=False)\n",
    "\n",
    "print(f\"Results saved to {results_file}\")"
   ]
  }
 ],
 "metadata": {
  "kernelspec": {
   "display_name": ".venv",
   "language": "python",
   "name": "python3"
  },
  "language_info": {
   "codemirror_mode": {
    "name": "ipython",
    "version": 3
   },
   "file_extension": ".py",
   "mimetype": "text/x-python",
   "name": "python",
   "nbconvert_exporter": "python",
   "pygments_lexer": "ipython3",
   "version": "3.12.0"
  }
 },
 "nbformat": 4,
 "nbformat_minor": 5
}
