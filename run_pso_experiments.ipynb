{
 "cells": [
  {
   "cell_type": "markdown",
   "id": "93e69f65",
   "metadata": {},
   "source": [
    "# Particle Swarp Optimization Portfolio Optimization"
   ]
  },
  {
   "cell_type": "code",
   "execution_count": 1,
   "id": "ae67c4e0",
   "metadata": {},
   "outputs": [],
   "source": [
    "import pandas as pd\n",
    "import numpy as np\n",
    "import matplotlib.pyplot as plt\n",
    "from pop.experiment.pso.pso_experiment_executor import PSOExperimentExecutor\n",
    "from pop.experiment.experiment_loader import ExperimentLoader\n",
    "from pop.dataset.dataset_manager import DatasetManager"
   ]
  },
  {
   "cell_type": "markdown",
   "id": "71e46cfa",
   "metadata": {},
   "source": [
    "## Experiment Configuration"
   ]
  },
  {
   "cell_type": "code",
   "execution_count": 2,
   "id": "d92ee397",
   "metadata": {},
   "outputs": [],
   "source": [
    "# Paths\n",
    "EXPERIMENTS_PATH = \"experiments/subdatasets\"\n",
    "RESULTS_PATH = \"results/pso\"\n",
    "\n",
    "# Initialize DatasetManager\n",
    "dataset_manager = DatasetManager(\"dataset/4-2-risk-free-rate/period-from-2015-01-01-to-2020-01-01\")\n",
    "\n",
    "# Load PSO experiments\n",
    "pso_experiments = ExperimentLoader.load_experiments(EXPERIMENTS_PATH)\n",
    "\n",
    "# Initialize PSO Experiment Executor\n",
    "pso_executor = PSOExperimentExecutor(dataset_manager)"
   ]
  },
  {
   "cell_type": "markdown",
   "id": "9cbe92fd",
   "metadata": {},
   "source": [
    "## Run one execution"
   ]
  },
  {
   "cell_type": "code",
   "execution_count": null,
   "id": "742c7d3f",
   "metadata": {},
   "outputs": [],
   "source": [
    "# Run a single experiment once\n",
    "num_runs = 1\n",
    "print(f\"Running PSO experiments with {num_runs} iteration...\")\n",
    "\n",
    "# Execute only the first experiment\n",
    "pso_executor.run_single_experiment(pso_experiments[:1], num_runs=num_runs)  # Run only the first experiment"
   ]
  },
  {
   "cell_type": "markdown",
   "id": "75a3dc21",
   "metadata": {},
   "source": [
    "## Save results"
   ]
  },
  {
   "cell_type": "code",
   "execution_count": null,
   "id": "2710d3a0",
   "metadata": {},
   "outputs": [],
   "source": [
    "# Save results to a CSV file\n",
    "results_df = pd.DataFrame(pso_executor.results)\n",
    "\n",
    "# Define the results file path dynamically\n",
    "results_file = f\"{RESULTS_PATH}/pso_results_{num_runs}_iterations.csv\"\n",
    "\n",
    "# Save the DataFrame to CSV\n",
    "results_df.to_csv(results_file, index=False)\n",
    "\n",
    "# Print confirmation message\n",
    "print(f\"Results saved to {results_file}\")"
   ]
  },
  {
   "cell_type": "markdown",
   "id": "a2572c2a",
   "metadata": {},
   "source": [
    "## Visualize fitness evolution"
   ]
  },
  {
   "cell_type": "code",
   "execution_count": null,
   "id": "5cd2a3ca",
   "metadata": {},
   "outputs": [],
   "source": [
    "# Plot fitness evolution for each experiment\n",
    "for result in pso_executor.results:\n",
    "    plt.plot(result['convergence_history'], label=f\"Experiment {result['experiment_id']}\")\n",
    "\n",
    "# Add labels and title\n",
    "plt.title(f\"PSO Fitness Evolution ({num_runs} Iterations)\")\n",
    "plt.xlabel(\"Generations\")\n",
    "plt.ylabel(\"Fitness\")\n",
    "plt.legend()"
   ]
  },
  {
   "cell_type": "code",
   "execution_count": null,
   "id": "e33ce47e",
   "metadata": {},
   "outputs": [],
   "source": [
    "# Save the plot\n",
    "results_file = f\"{RESULTS_PATH}/pso_fitness_evolution_{num_runs}_iterations.png\"\n",
    "plt.savefig(results_file)\n",
    "plt.clf()\n",
    "\n",
    "print(f\"Fitness evolution plot saved to {results_file}\")"
   ]
  },
  {
   "cell_type": "markdown",
   "id": "6f000c54",
   "metadata": {},
   "source": [
    "## Visualize diversity evolution"
   ]
  },
  {
   "cell_type": "code",
   "execution_count": null,
   "id": "6a27e6aa",
   "metadata": {},
   "outputs": [],
   "source": [
    "# Plot diversity evolution\n",
    "for result in pso_executor.results:\n",
    "    if 'diversity_history' in result:\n",
    "        plt.plot(result['diversity_history'], label=f\"Experiment {result['experiment_id']}\")\n",
    "\n",
    "# Add labels and title\n",
    "plt.title(f\"PSO Diversity Evolution ({num_runs} Iterations)\")\n",
    "plt.xlabel(\"Generations\")\n",
    "plt.ylabel(\"Diversity\")\n",
    "plt.legend()"
   ]
  },
  {
   "cell_type": "code",
   "execution_count": null,
   "id": "e18af191",
   "metadata": {},
   "outputs": [],
   "source": [
    "# Save the plot\n",
    "results_file = f\"{RESULTS_PATH}/pso_diversity_evolution_{num_runs}_iterations.png\"\n",
    "plt.savefig(results_file)\n",
    "plt.clf()\n",
    "\n",
    "print(f\"Diversity plot saved to {results_file}\")"
   ]
  },
  {
   "cell_type": "markdown",
   "id": "50978329",
   "metadata": {},
   "source": [
    "## Repeat experiment several times"
   ]
  },
  {
   "cell_type": "code",
   "execution_count": null,
   "id": "4aac90aa",
   "metadata": {},
   "outputs": [],
   "source": [
    "# Run a single experiment 10 times\n",
    "num_runs = 10\n",
    "print(f\"Running PSO experiments with {num_runs} iterations...\")\n",
    "\n",
    "# Execute the first experiment multiple times\n",
    "repeated_results = pso_executor.run_repeated_experiment(pso_experiments[0], num_runs=num_runs)\n",
    "\n",
    "# Analyze repeated results\n",
    "fitness_values = [result['sharpe_ratio'] for result in repeated_results]\n",
    "\n",
    "# Print key performance metrics\n",
    "print(f\"Best fitness: {max(fitness_values):.4f}\")\n",
    "print(f\"Mean fitness: {np.mean(fitness_values):.4f} ± {np.std(fitness_values):.4f}\")"
   ]
  },
  {
   "cell_type": "markdown",
   "id": "8ab240b0",
   "metadata": {},
   "source": [
    "## Run all experiments"
   ]
  },
  {
   "cell_type": "code",
   "execution_count": null,
   "id": "e60c8cd0",
   "metadata": {},
   "outputs": [],
   "source": [
    "# Run all experiments 31 times\n",
    "num_runs = 31\n",
    "print(f\"Running all PSO experiments with {num_runs} iterations...\")\n",
    "\n",
    "# Execute all PSO experiments\n",
    "pso_executor.run_all_experiments(pso_experiments, num_runs=num_runs)"
   ]
  },
  {
   "cell_type": "code",
   "execution_count": null,
   "id": "c60f3ed4",
   "metadata": {},
   "outputs": [],
   "source": [
    "# Save results\n",
    "results_df = pd.DataFrame(pso_executor.results)\n",
    "results_file = f\"{RESULTS_PATH}/pso_results_{num_runs}_iterations.csv\"\n",
    "results_df.to_csv(results_file, index=False)\n",
    "\n",
    "print(f\"Results saved to {results_file}\")"
   ]
  }
 ],
 "metadata": {
  "kernelspec": {
   "display_name": ".venv",
   "language": "python",
   "name": "python3"
  },
  "language_info": {
   "codemirror_mode": {
    "name": "ipython",
    "version": 3
   },
   "file_extension": ".py",
   "mimetype": "text/x-python",
   "name": "python",
   "nbconvert_exporter": "python",
   "pygments_lexer": "ipython3",
   "version": "3.12.0"
  }
 },
 "nbformat": 4,
 "nbformat_minor": 5
}
