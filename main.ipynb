{
 "cells": [
  {
   "cell_type": "code",
   "execution_count": null,
   "metadata": {},
   "outputs": [],
   "source": [
    "# !pip install kagglehub\n",
    "# !pip install pandas"
   ]
  },
  {
   "cell_type": "code",
   "execution_count": 2,
   "metadata": {},
   "outputs": [
    {
     "name": "stderr",
     "output_type": "stream",
     "text": [
      "c:\\Users\\raque\\OneDrive - Universidad Politécnica de Madrid\\4 - BAO - Bioinspired Algorithms\\GROUP_BAO\\bao\\Lib\\site-packages\\tqdm\\auto.py:21: TqdmWarning: IProgress not found. Please update jupyter and ipywidgets. See https://ipywidgets.readthedocs.io/en/stable/user_install.html\n",
      "  from .autonotebook import tqdm as notebook_tqdm\n"
     ]
    }
   ],
   "source": [
    "import pandas as pd\n",
    "import kagglehub"
   ]
  },
  {
   "cell_type": "code",
   "execution_count": null,
   "metadata": {},
   "outputs": [
    {
     "name": "stderr",
     "output_type": "stream",
     "text": [
      "c:\\Users\\raque\\Desktop\\BAO_PROJECT\\bao\\Lib\\site-packages\\tqdm\\auto.py:21: TqdmWarning: IProgress not found. Please update jupyter and ipywidgets. See https://ipywidgets.readthedocs.io/en/stable/user_install.html\n",
      "  from .autonotebook import tqdm as notebook_tqdm\n"
     ]
    },
    {
     "name": "stdout",
     "output_type": "stream",
     "text": [
      "Path to dataset files: C:\\Users\\raque\\.cache\\kagglehub\\datasets\\jacksoncrow\\stock-market-dataset\\versions\\2\n"
     ]
    }
   ],
   "source": [
    "# path = kagglehub.dataset_download(\"jacksoncrow/stock-market-dataset\")\n",
    "\n",
    "# print(\"Path to dataset files:\", path)"
   ]
  },
  {
   "cell_type": "code",
   "execution_count": null,
   "metadata": {},
   "outputs": [
    {
     "name": "stdout",
     "output_type": "stream",
     "text": [
      "./data/companies\\A.csv\n",
      "./data/companies\\AA.csv\n",
      "./data/companies\\AACG.csv\n",
      "./data/companies\\AAL.csv\n"
     ]
    },
    {
     "data": {
      "text/html": [
       "<div>\n",
       "<style scoped>\n",
       "    .dataframe tbody tr th:only-of-type {\n",
       "        vertical-align: middle;\n",
       "    }\n",
       "\n",
       "    .dataframe tbody tr th {\n",
       "        vertical-align: top;\n",
       "    }\n",
       "\n",
       "    .dataframe thead th {\n",
       "        text-align: right;\n",
       "    }\n",
       "</style>\n",
       "<table border=\"1\" class=\"dataframe\">\n",
       "  <thead>\n",
       "    <tr style=\"text-align: right;\">\n",
       "      <th>Date</th>\n",
       "      <th>Enterprise</th>\n",
       "      <th>1999</th>\n",
       "      <th>2000</th>\n",
       "      <th>2001</th>\n",
       "      <th>2002</th>\n",
       "      <th>2003</th>\n",
       "      <th>2004</th>\n",
       "      <th>2005</th>\n",
       "      <th>2006</th>\n",
       "      <th>2007</th>\n",
       "      <th>...</th>\n",
       "      <th>1989</th>\n",
       "      <th>1990</th>\n",
       "      <th>1991</th>\n",
       "      <th>1992</th>\n",
       "      <th>1993</th>\n",
       "      <th>1994</th>\n",
       "      <th>1995</th>\n",
       "      <th>1996</th>\n",
       "      <th>1997</th>\n",
       "      <th>1998</th>\n",
       "    </tr>\n",
       "  </thead>\n",
       "  <tbody>\n",
       "    <tr>\n",
       "      <th>0</th>\n",
       "      <td>A</td>\n",
       "      <td>29.740926</td>\n",
       "      <td>42.896596</td>\n",
       "      <td>20.565704</td>\n",
       "      <td>14.117134</td>\n",
       "      <td>12.452391</td>\n",
       "      <td>16.536322</td>\n",
       "      <td>16.647644</td>\n",
       "      <td>21.001003</td>\n",
       "      <td>23.437430</td>\n",
       "      <td>...</td>\n",
       "      <td>NaN</td>\n",
       "      <td>NaN</td>\n",
       "      <td>NaN</td>\n",
       "      <td>NaN</td>\n",
       "      <td>NaN</td>\n",
       "      <td>NaN</td>\n",
       "      <td>NaN</td>\n",
       "      <td>NaN</td>\n",
       "      <td>NaN</td>\n",
       "      <td>NaN</td>\n",
       "    </tr>\n",
       "    <tr>\n",
       "      <th>1</th>\n",
       "      <td>AA</td>\n",
       "      <td>50.922623</td>\n",
       "      <td>56.959232</td>\n",
       "      <td>67.640372</td>\n",
       "      <td>55.327341</td>\n",
       "      <td>49.803314</td>\n",
       "      <td>64.261166</td>\n",
       "      <td>55.621069</td>\n",
       "      <td>61.281611</td>\n",
       "      <td>75.889838</td>\n",
       "      <td>...</td>\n",
       "      <td>11.80405</td>\n",
       "      <td>11.55483</td>\n",
       "      <td>12.362346</td>\n",
       "      <td>13.678465</td>\n",
       "      <td>13.860844</td>\n",
       "      <td>15.827738</td>\n",
       "      <td>20.31258</td>\n",
       "      <td>25.331394</td>\n",
       "      <td>31.99219</td>\n",
       "      <td>31.147144</td>\n",
       "    </tr>\n",
       "    <tr>\n",
       "      <th>2</th>\n",
       "      <td>AACG</td>\n",
       "      <td>NaN</td>\n",
       "      <td>NaN</td>\n",
       "      <td>NaN</td>\n",
       "      <td>NaN</td>\n",
       "      <td>NaN</td>\n",
       "      <td>NaN</td>\n",
       "      <td>NaN</td>\n",
       "      <td>NaN</td>\n",
       "      <td>NaN</td>\n",
       "      <td>...</td>\n",
       "      <td>NaN</td>\n",
       "      <td>NaN</td>\n",
       "      <td>NaN</td>\n",
       "      <td>NaN</td>\n",
       "      <td>NaN</td>\n",
       "      <td>NaN</td>\n",
       "      <td>NaN</td>\n",
       "      <td>NaN</td>\n",
       "      <td>NaN</td>\n",
       "      <td>NaN</td>\n",
       "    </tr>\n",
       "    <tr>\n",
       "      <th>3</th>\n",
       "      <td>AAL</td>\n",
       "      <td>NaN</td>\n",
       "      <td>NaN</td>\n",
       "      <td>NaN</td>\n",
       "      <td>NaN</td>\n",
       "      <td>NaN</td>\n",
       "      <td>NaN</td>\n",
       "      <td>27.404087</td>\n",
       "      <td>41.784555</td>\n",
       "      <td>33.629429</td>\n",
       "      <td>...</td>\n",
       "      <td>NaN</td>\n",
       "      <td>NaN</td>\n",
       "      <td>NaN</td>\n",
       "      <td>NaN</td>\n",
       "      <td>NaN</td>\n",
       "      <td>NaN</td>\n",
       "      <td>NaN</td>\n",
       "      <td>NaN</td>\n",
       "      <td>NaN</td>\n",
       "      <td>NaN</td>\n",
       "    </tr>\n",
       "  </tbody>\n",
       "</table>\n",
       "<p>4 rows × 60 columns</p>\n",
       "</div>"
      ],
      "text/plain": [
       "Date Enterprise       1999       2000       2001       2002       2003  \\\n",
       "0             A  29.740926  42.896596  20.565704  14.117134  12.452391   \n",
       "1            AA  50.922623  56.959232  67.640372  55.327341  49.803314   \n",
       "2          AACG        NaN        NaN        NaN        NaN        NaN   \n",
       "3           AAL        NaN        NaN        NaN        NaN        NaN   \n",
       "\n",
       "Date       2004       2005       2006       2007  ...      1989      1990  \\\n",
       "0     16.536322  16.647644  21.001003  23.437430  ...       NaN       NaN   \n",
       "1     64.261166  55.621069  61.281611  75.889838  ...  11.80405  11.55483   \n",
       "2           NaN        NaN        NaN        NaN  ...       NaN       NaN   \n",
       "3           NaN  27.404087  41.784555  33.629429  ...       NaN       NaN   \n",
       "\n",
       "Date       1991       1992       1993       1994      1995       1996  \\\n",
       "0           NaN        NaN        NaN        NaN       NaN        NaN   \n",
       "1     12.362346  13.678465  13.860844  15.827738  20.31258  25.331394   \n",
       "2           NaN        NaN        NaN        NaN       NaN        NaN   \n",
       "3           NaN        NaN        NaN        NaN       NaN        NaN   \n",
       "\n",
       "Date      1997       1998  \n",
       "0          NaN        NaN  \n",
       "1     31.99219  31.147144  \n",
       "2          NaN        NaN  \n",
       "3          NaN        NaN  \n",
       "\n",
       "[4 rows x 60 columns]"
      ]
     },
     "execution_count": 73,
     "metadata": {},
     "output_type": "execute_result"
    }
   ],
   "source": [
    "import os\n",
    "\n",
    "\n",
    "def construct_table(path):\n",
    "    df = pd.read_csv(path)\n",
    "    df = df[[\"Date\",\"Adj Close\"]]\n",
    "    df[\"Date\"] = pd.to_datetime(df[\"Date\"]).dt.to_period('Y')\n",
    "    df = df.groupby(\"Date\").mean().reset_index()\n",
    "    df.to_csv(os.path.join(\"./data/companies\", os.path.basename(path)), index= False)\n",
    "\n",
    "def construct_anual_dataset_anual(num_companies, ini_dataset):\n",
    "    for dir, sub_dir, files in os.walk(ini_dataset):\n",
    "        for idx in range(num_companies):\n",
    "            path_out = os.path.join(dir,files[idx])\n",
    "            construct_table(path_out)\n",
    "\n",
    "def contruct_dataset(processed_anual_datasets_path):\n",
    "    df = pd.DataFrame()\n",
    "    for dir, sub_dir, files in os.walk(processed_anual_datasets_path):\n",
    "        for idx in range(len(files)):\n",
    "            path_out = os.path.join(dir,files[idx])\n",
    "            name_enterprise = os.path.basename(path_out)[:-4]\n",
    "            df_temp = pd.read_csv(path_out)\n",
    "            df_temp['Enterprise'] = name_enterprise\n",
    "            df_aux = df_temp.pivot(index='Enterprise', columns='Date', values='Adj Close')\n",
    "            df_aux.reset_index(inplace=True)\n",
    "            df = pd.concat([df, df_aux], ignore_index=True)\n",
    "            print(path_out)\n",
    "    df.to_csv('./data/tabla.csv', index=False)\n",
    "    return df\n",
    "# companies = 4\n",
    "# construct_anual_dataset_anual(companies, './dataset/stocks')\n",
    "contruct_dataset(\"./data/companies\")\n"
   ]
  },
  {
   "cell_type": "code",
   "execution_count": null,
   "metadata": {},
   "outputs": [
    {
     "name": "stdout",
     "output_type": "stream",
     "text": [
      "Date       1999       2000       2001       2002       2003       2004  \\\n",
      "0     29.740926  42.896596  20.565704  14.117134  12.452391  16.536322   \n",
      "\n",
      "Date       2005       2006      2007       2008  ...       2011       2012  \\\n",
      "0     16.647644  21.001003  23.43743  19.687217  ...  27.022611  26.232382   \n",
      "\n",
      "Date       2013       2014       2015       2016       2017       2018  \\\n",
      "0     31.165715  38.331851  37.791033  41.846742  57.839639  66.047285   \n",
      "\n",
      "Date       2019       2020  \n",
      "0     74.629245  79.946901  \n",
      "\n",
      "[1 rows x 22 columns]\n"
     ]
    },
    {
     "name": "stderr",
     "output_type": "stream",
     "text": [
      "<>:2: SyntaxWarning: invalid escape sequence '\\A'\n",
      "<>:2: SyntaxWarning: invalid escape sequence '\\A'\n",
      "C:\\Users\\raque\\AppData\\Local\\Temp\\ipykernel_25364\\3960926237.py:2: SyntaxWarning: invalid escape sequence '\\A'\n",
      "  path_out= \"./data/companies\\A.csv\"\n"
     ]
    }
   ],
   "source": [
    "# df = pd.DataFrame()\n",
    "# path_out= \"./data/companies\\A.csv\"\n",
    "# name_enterprise = os.path.basename(path_out)[:-4]\n",
    "# df_temp = pd.read_csv(path_out)\n",
    "# df_temp['Enterprise'] = name_enterprise\n",
    "# df_aux = df_temp.pivot(index='Enterprise', columns='Date', values='Adj Close')\n",
    "# df = pd.concat([df, df_aux], ignore_index=True)\n",
    "# print(df)\n"
   ]
  },
  {
   "cell_type": "code",
   "execution_count": null,
   "metadata": {},
   "outputs": [],
   "source": []
  }
 ],
 "metadata": {
  "kernelspec": {
   "display_name": "bao",
   "language": "python",
   "name": "python3"
  },
  "language_info": {
   "codemirror_mode": {
    "name": "ipython",
    "version": 3
   },
   "file_extension": ".py",
   "mimetype": "text/x-python",
   "name": "python",
   "nbconvert_exporter": "python",
   "pygments_lexer": "ipython3",
   "version": "3.12.3"
  }
 },
 "nbformat": 4,
 "nbformat_minor": 2
}
