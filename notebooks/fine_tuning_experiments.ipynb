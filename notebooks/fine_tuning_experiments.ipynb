{
 "cells": [
  {
   "cell_type": "markdown",
   "id": "93e69f65",
   "metadata": {},
   "source": [
    "# Fine Tuning Experiments"
   ]
  },
  {
   "cell_type": "markdown",
   "id": "06defb23",
   "metadata": {},
   "source": [
    "## Dependencies Set-up"
   ]
  },
  {
   "cell_type": "code",
   "execution_count": null,
   "id": "26dbde9e",
   "metadata": {},
   "outputs": [],
   "source": [
    "# --- Import Required Libraries ---\n",
    "import os\n",
    "import sys\n",
    "import pandas as pd\n",
    "\n",
    "# --- Set Up Paths ---\n",
    "ROOT_PATH = os.path.abspath(os.path.join(os.getcwd(), '..'))\n",
    "if ROOT_PATH not in sys.path:\n",
    "    sys.path.insert(0, ROOT_PATH)\n",
    "\n",
    "# --- Import Custom Libraries ---\n",
    "from pop.util.print_results import (\n",
    "    print_statistics,\n",
    "    plot_fitness_diversity,\n",
    "    compare_best_fitness_diversity,\n",
    "    plot_time_per_run,\n",
    "    plot_fitness_distribution,\n",
    "    plot_fitness_vs_time\n",
    ")\n",
    "from pop.util.fine_tuning import (\n",
    "    select_configs,\n",
    "    get_results_path,\n",
    "    generate_base_filename,\n",
    "    fine_tune_algorithms_parallel, \n",
    "    run_selected_configs_parallel\n",
    ")"
   ]
  },
  {
   "cell_type": "markdown",
   "id": "d5c004f6",
   "metadata": {},
   "source": [
    "## Parameter Definition"
   ]
  },
  {
   "cell_type": "code",
   "execution_count": null,
   "id": "8631c681",
   "metadata": {},
   "outputs": [],
   "source": [
    "# Number of runs for statistically significant results\n",
    "num_runs = 5\n",
    "\n",
    "# Experiment parameters (define these explicitly)\n",
    "dataset = \"../dataset\"\n",
    "num_companies = 200\n",
    "risk_free_rate = 0.042\n",
    "start_date = \"2015-01-01\"\n",
    "end_date = \"2020-01-01\"\n",
    "correlation_level = 'high' # 'low', 'medium', 'high', or None\n",
    "seed = 0"
   ]
  },
  {
   "cell_type": "markdown",
   "id": "1519176c",
   "metadata": {},
   "source": [
    "## Hyperparameter Configuration"
   ]
  },
  {
   "cell_type": "code",
   "execution_count": null,
   "id": "fd5e6110",
   "metadata": {},
   "outputs": [],
   "source": [
    "# Hyperparameters for Genetic Algorithm (GA)\n",
    "ga_param_grid = {\n",
    "    \"pop_size\": [200],\n",
    "    \"mutation_rate\": [0.01, 0.05, 0.1],\n",
    "    \"gaussian_stdev\": [0.01, 0.05, 0.1],\n",
    "    \"num_elites\": [1, 2, 5],\n",
    "    \"max_generations\": [50, 100]\n",
    "}\n",
    "\n",
    "# Hyperparameters for Particle Swarm Optimization (PSO)\n",
    "pso_param_grid = {\n",
    "    \"swarm_size\": [200],\n",
    "    \"max_iterations\": [50, 100],\n",
    "    \"w\": [0.4, 0.7, 0.9],\n",
    "    \"c1\": [1.0, 1.5, 2.0],\n",
    "    \"c2\": [1.0, 1.5, 2.0]\n",
    "}\n",
    "\n",
    "# Possible repair methods\n",
    "REPAIR_METHODS = [\"normalize\", \"shrink\"]"
   ]
  },
  {
   "cell_type": "markdown",
   "id": "a1bb2038",
   "metadata": {},
   "source": [
    "## Fine-Tuning Run"
   ]
  },
  {
   "cell_type": "markdown",
   "id": "b9de745a",
   "metadata": {},
   "source": [
    "- Experimentation with different hyperparameters"
   ]
  },
  {
   "cell_type": "code",
   "execution_count": null,
   "id": "1088cc62",
   "metadata": {},
   "outputs": [],
   "source": [
    "# Parallel fine-tuning for all configs\n",
    "fine_tuning_results = fine_tune_algorithms_parallel(\n",
    "    num_runs=5,\n",
    "    dataset=dataset,\n",
    "    num_companies=num_companies,\n",
    "    risk_free_rate=risk_free_rate,\n",
    "    start_date=start_date,\n",
    "    end_date=end_date,\n",
    "    correlation_level=correlation_level,\n",
    "    seed=seed,\n",
    "    ga_param_grid=ga_param_grid,\n",
    "    pso_param_grid=pso_param_grid,\n",
    "    REPAIR_METHODS=REPAIR_METHODS\n",
    ")"
   ]
  },
  {
   "cell_type": "code",
   "execution_count": null,
   "id": "108b3799",
   "metadata": {},
   "outputs": [],
   "source": [
    "# If already available in separate files, load fine tuning results for GA and PSO\n",
    "fetch_from_files = True\n",
    "\n",
    "if fetch_from_files:\n",
    "    ft_results_path_ga = f\"../experiments/results/{correlation_level}_correlation/ga/fine_tuning_results.csv\"\n",
    "    ft_results_path_pso = f\"../experiments/results/{correlation_level}_correlation/pso/fine_tuning_results.csv\"\n",
    "    fine_tuning_results_df_ga = pd.read_csv(ft_results_path_ga)\n",
    "    fine_tuning_results_df_pso = pd.read_csv(ft_results_path_pso)\n",
    "\n",
    "    ga_best, ga_median, ga_worst = select_configs(fine_tuning_results_df_ga, \"GA\")\n",
    "    pso_best, pso_median, pso_worst = select_configs(fine_tuning_results_df_pso, \"PSO\")\n",
    "else:\n",
    "    # Select best, median, and worst configs for GA and PSO\n",
    "    ga_best, ga_median, ga_worst = select_configs(pd.DataFrame(fine_tuning_results), \"GA\")\n",
    "    pso_best, pso_median, pso_worst = select_configs(pd.DataFrame(fine_tuning_results), \"PSO\")\n",
    "\n",
    "# Combine into a list\n",
    "selected_configs = [ga_best, ga_median, ga_worst, pso_best, pso_median, pso_worst]"
   ]
  },
  {
   "cell_type": "markdown",
   "id": "f4d4cd93",
   "metadata": {},
   "source": [
    "- Re-run best, median and worst configuratiosn for GA and PSO "
   ]
  },
  {
   "cell_type": "code",
   "execution_count": null,
   "id": "92a5d6b3",
   "metadata": {},
   "outputs": [],
   "source": [
    "# Run the selected configurations in parallel\n",
    "final_results_df = run_selected_configs_parallel(\n",
    "    selected_configs=selected_configs,\n",
    "    num_runs=31,\n",
    "    dataset=dataset,\n",
    "    num_companies=num_companies,\n",
    "    risk_free_rate=risk_free_rate,\n",
    "    start_date=start_date,\n",
    "    end_date=end_date,\n",
    "    correlation_level=correlation_level,\n",
    "    seed=seed\n",
    ")"
   ]
  },
  {
   "cell_type": "code",
   "execution_count": null,
   "id": "68036e8d",
   "metadata": {},
   "outputs": [],
   "source": [
    "# Save the final results to a CSV file\n",
    "result_path = get_results_path(\"final_fine_tuning_results.csv\", correlation_level=correlation_level)\n",
    "final_results_df.to_csv(result_path, index=False)\n",
    "print(f\"✅ Final fine-tuning results saved to '{result_path}'\")"
   ]
  },
  {
   "cell_type": "code",
   "execution_count": null,
   "id": "f998ec48",
   "metadata": {},
   "outputs": [],
   "source": [
    "# Load and print statistics\n",
    "final_results_df = pd.read_csv(get_results_path(\"final_fine_tuning_results.csv\", correlation_level=correlation_level))\n",
    "print_statistics(final_results_df, \"sharpe_ratio\")\n",
    "print_statistics(final_results_df, \"annual_return\")\n",
    "print_statistics(final_results_df, \"runtime\")"
   ]
  },
  {
   "cell_type": "markdown",
   "id": "2cf88397",
   "metadata": {},
   "source": [
    "## Visualization"
   ]
  },
  {
   "cell_type": "markdown",
   "id": "c925277e",
   "metadata": {},
   "source": [
    "### Fitness and Diversity Evolution (GA and PSO)"
   ]
  },
  {
   "cell_type": "markdown",
   "id": "08743bb7",
   "metadata": {},
   "source": [
    "- Plot the evolution of fitness and diversity over generations for each algorithm\n",
    "- Separate plots for GA and PSO\n",
    "- Display best, median, and worst configurations in the same plot for comparison"
   ]
  },
  {
   "cell_type": "code",
   "execution_count": null,
   "id": "c41ee70c",
   "metadata": {},
   "outputs": [],
   "source": [
    "# Plotting function for fitness and diversity\n",
    "for algo in [\"ga\", \"pso\"]:\n",
    "    for quality in [\"best\", \"median\", \"worst\"]:\n",
    "        plot_fitness_diversity(\n",
    "            get_results_path,\n",
    "            algo,\n",
    "            quality,\n",
    "            correlation_level\n",
    "        )"
   ]
  },
  {
   "cell_type": "markdown",
   "id": "fa356ae9",
   "metadata": {},
   "source": [
    "### Comparison of Best Fitness and Diversity between GA and PSO"
   ]
  },
  {
   "cell_type": "markdown",
   "id": "689a2cae",
   "metadata": {},
   "source": [
    "- Compare the best fitness and diversity evolution between GA and PSO\n",
    "- Helps in understanding which algorithm converges faster and maintains diversity"
   ]
  },
  {
   "cell_type": "code",
   "execution_count": null,
   "id": "03ff392f",
   "metadata": {},
   "outputs": [],
   "source": [
    "# Run the comparison function\n",
    "compare_best_fitness_diversity(get_results_path, correlation_level)"
   ]
  },
  {
   "cell_type": "markdown",
   "id": "e24b6de8",
   "metadata": {},
   "source": [
    "### Final Fitness Distribution"
   ]
  },
  {
   "cell_type": "markdown",
   "id": "83bc594a",
   "metadata": {},
   "source": [
    "- A box plot or violin plot showing the distribution of final fitness values for each algorithm\n",
    "- Visualize the variability in performance"
   ]
  },
  {
   "cell_type": "code",
   "execution_count": null,
   "id": "0f4593c8",
   "metadata": {},
   "outputs": [],
   "source": [
    "plot_fitness_distribution(final_results_df)"
   ]
  },
  {
   "cell_type": "markdown",
   "id": "a6aaa2ed",
   "metadata": {},
   "source": [
    "### Time taken per run"
   ]
  },
  {
   "cell_type": "markdown",
   "id": "7b4282a1",
   "metadata": {},
   "source": [
    "- A bar plot or box plot to show the time taken for each configuration\n",
    "- Compare time taken between GA and PSO"
   ]
  },
  {
   "cell_type": "code",
   "execution_count": null,
   "id": "b6c7959e",
   "metadata": {},
   "outputs": [],
   "source": [
    "plot_time_per_run(final_results_df)"
   ]
  },
  {
   "cell_type": "markdown",
   "id": "1c35864f",
   "metadata": {},
   "source": [
    "### Fitness vs. Time Tradeoff"
   ]
  },
  {
   "cell_type": "markdown",
   "id": "1a02efc3",
   "metadata": {},
   "source": [
    "- A scatter plot comparing the mean fitness vs. mean time taken\n",
    "- Each point represents a different configuration"
   ]
  },
  {
   "cell_type": "code",
   "execution_count": null,
   "id": "80a1ecff",
   "metadata": {},
   "outputs": [],
   "source": [
    "plot_fitness_vs_time(final_results_df)"
   ]
  }
 ],
 "metadata": {
  "kernelspec": {
   "display_name": ".venv",
   "language": "python",
   "name": "python3"
  },
  "language_info": {
   "codemirror_mode": {
    "name": "ipython",
    "version": 3
   },
   "file_extension": ".py",
   "mimetype": "text/x-python",
   "name": "python",
   "nbconvert_exporter": "python",
   "pygments_lexer": "ipython3",
   "version": "3.12.0"
  }
 },
 "nbformat": 4,
 "nbformat_minor": 5
}
