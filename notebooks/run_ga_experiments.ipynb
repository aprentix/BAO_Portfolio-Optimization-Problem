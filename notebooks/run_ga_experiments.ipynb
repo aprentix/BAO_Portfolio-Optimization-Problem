{
 "cells": [
  {
   "cell_type": "markdown",
   "id": "93e69f65",
   "metadata": {},
   "source": [
    "# Genetic Algorithm Portfolio Optimization"
   ]
  },
  {
   "cell_type": "code",
   "execution_count": 51,
   "id": "ae67c4e0",
   "metadata": {},
   "outputs": [],
   "source": [
    "import pandas as pd\n",
    "import numpy as np\n",
    "import matplotlib.pyplot as plt\n",
    "import sys\n",
    "import os\n",
    "from pathlib import Path\n",
    "import importlib\n",
    "import experiments.problem.experiment_executor\n",
    "import experiments.problem.experiment_loader\n",
    "import pop.dataset.dataset_manager\n",
    "\n",
    "ROOT_PATH = os.path.abspath(os.path.join(os.getcwd(), '..'))\n",
    "if ROOT_PATH not in sys.path:\n",
    "    sys.path.insert(0, ROOT_PATH)\n",
    "\n",
    "\n",
    "importlib.reload(experiments.problem.experiment_executor)\n",
    "importlib.reload(experiments.problem.experiment_loader)\n",
    "importlib.reload(pop.dataset.dataset_manager)\n",
    "\n",
    "from experiments.problem.experiment_executor import ExperimentExecutor\n",
    "from experiments.problem.experiment_loader import ExperimentLoader\n",
    "from pop.dataset.dataset_manager import DatasetManager"
   ]
  },
  {
   "cell_type": "markdown",
   "id": "71e46cfa",
   "metadata": {},
   "source": [
    "## Experiment Configuration"
   ]
  },
  {
   "cell_type": "code",
   "execution_count": 48,
   "id": "d92ee397",
   "metadata": {},
   "outputs": [],
   "source": [
    "# Experiment number\n",
    "num_exp = 1\n",
    "\n",
    "# Paths\n",
    "CONFIG_PATH = f\"experiments/problem/configurations/ga/experiment_{num_exp}.csv\"\n",
    "RESULTS_PATH = \"experiments/results/ga\"\n",
    "\n",
    "# Ensure results directory exists\n",
    "Path(RESULTS_PATH).mkdir(parents=True, exist_ok=True)\n",
    "\n",
    "# Initialize DatasetManager\n",
    "dataset_manager = DatasetManager(\"dataset\")\n",
    "\n",
    "# Load GA experiments\n",
    "ga_experiments = ExperimentLoader.load_experiments(os.path.join(ROOT_PATH, CONFIG_PATH))\n",
    "\n",
    "# Initialize GA Experiment Executor\n",
    "ga_executor = ExperimentExecutor()"
   ]
  },
  {
   "cell_type": "code",
   "execution_count": 49,
   "id": "ca4f99d6",
   "metadata": {},
   "outputs": [
    {
     "name": "stdout",
     "output_type": "stream",
     "text": [
      "{'num_assets': 10, 'correlation_level': 'high', 'pop_size': 100, 'max_generations': 50, 'mutation_rate': 0.1, 'repair_method': 'normalize', 'tournament_size': 3, 'num_elites': 1}\n"
     ]
    }
   ],
   "source": [
    "print(ga_experiments[0])"
   ]
  },
  {
   "cell_type": "markdown",
   "id": "9cbe92fd",
   "metadata": {},
   "source": [
    "## Run one execution"
   ]
  },
  {
   "cell_type": "code",
   "execution_count": 50,
   "id": "742c7d3f",
   "metadata": {},
   "outputs": [
    {
     "name": "stdout",
     "output_type": "stream",
     "text": [
      "Running a single GA experiment...\n",
      "Experiment result: {'experiment_id': 'unknown', 'num_assets': 10, 'correlation_level': 'high', 'pop_size': 100, 'max_generations': 50, 'mutation_rate': 0.1, 'repair_method': 'normalize', 'tournament_size': 3, 'num_elites': 1, 'seed': 0, 'sharpe_ratio': [-inf, -inf, -inf, -inf, -inf, -inf, -inf, -inf, -inf, -inf]}\n"
     ]
    }
   ],
   "source": [
    "# Run a single experiment\n",
    "num_runs = 1\n",
    "\n",
    "if ga_experiments:\n",
    "    print(\"Running a single GA experiment...\")\n",
    "    executor = ExperimentExecutor()\n",
    "    result = executor.run_single_experiment(algorithm_type= \"ga\", num_companies = 10, sharpe_ratios = 3, experiment=ga_experiments[0], seed=0)\n",
    "    print(f\"Experiment result: {result}\")\n",
    "else:\n",
    "    print(\"No experiments found to run.\")\n"
   ]
  },
  {
   "cell_type": "code",
   "execution_count": null,
   "id": "2710d3a0",
   "metadata": {},
   "outputs": [],
   "source": [
    "# Save results to a CSV file\n",
    "results_df = pd.DataFrame(ga_executor.results)\n",
    "\n",
    "# Define the results file path dynamically\n",
    "results_file = f\"{RESULTS_PATH}/experiment_{num_exp}_{num_runs}_iterations.csv\"\n",
    "\n",
    "# Save the DataFrame to CSV\n",
    "results_df.to_csv(results_file, index=False)\n",
    "\n",
    "# Print confirmation message\n",
    "print(f\"Results saved to {results_file}\")"
   ]
  },
  {
   "cell_type": "markdown",
   "id": "a2572c2a",
   "metadata": {},
   "source": [
    "## Visualize fitness evolution"
   ]
  },
  {
   "cell_type": "code",
   "execution_count": null,
   "id": "5cd2a3ca",
   "metadata": {},
   "outputs": [],
   "source": [
    "# Plot fitness evolution for each experiment\n",
    "for result in ga_executor.results:\n",
    "    plt.plot(result['convergence_history'], label=f\"Experiment {result['experiment_id']}\")\n",
    "\n",
    "# Add labels and title\n",
    "plt.title(f\"GA Fitness Evolution ({num_runs} Iterations)\")\n",
    "plt.xlabel(\"Generations\")\n",
    "plt.ylabel(\"Fitness\")\n",
    "plt.legend()"
   ]
  },
  {
   "cell_type": "code",
   "execution_count": null,
   "id": "f118c983",
   "metadata": {},
   "outputs": [],
   "source": [
    "# Save the plot\n",
    "results_file = f\"{RESULTS_PATH}/experiment_{num_exp}_{num_runs}_iterations_fitness.png\"\n",
    "plt.savefig(results_file)\n",
    "plt.clf()\n",
    "\n",
    "print(f\"Fitness evolution plot saved to {results_file}\")"
   ]
  },
  {
   "cell_type": "markdown",
   "id": "6f000c54",
   "metadata": {},
   "source": [
    "## Visualize diversity evolution"
   ]
  },
  {
   "cell_type": "code",
   "execution_count": null,
   "id": "6a27e6aa",
   "metadata": {},
   "outputs": [],
   "source": [
    "# Plot diversity evolution\n",
    "for result in ga_executor.results:\n",
    "    if 'diversity_history' in result:\n",
    "        plt.plot(result['diversity_history'], label=f\"Experiment {result['experiment_id', 'N/A']}\")\n",
    "        \n",
    "# Add labels and title\n",
    "plt.title(f\"GA Diversity Evolution ({num_runs} Iterations)\")\n",
    "plt.xlabel(\"Generations\")\n",
    "plt.ylabel(\"Diversity\")\n",
    "plt.legend()"
   ]
  },
  {
   "cell_type": "code",
   "execution_count": null,
   "id": "0b297c53",
   "metadata": {},
   "outputs": [],
   "source": [
    "# Save the plot\n",
    "results_file = f\"{RESULTS_PATH}/experiment_{num_exp}_{num_runs}_iterations_diversity.png\"\n",
    "plt.savefig(results_file)\n",
    "plt.clf()\n",
    "\n",
    "print(f\"Diversity plot saved to {results_file}\")"
   ]
  },
  {
   "cell_type": "markdown",
   "id": "50978329",
   "metadata": {},
   "source": [
    "## Repeat experiment several times"
   ]
  },
  {
   "cell_type": "code",
   "execution_count": null,
   "id": "4aac90aa",
   "metadata": {},
   "outputs": [],
   "source": [
    "# Run a single experiment 10 times\n",
    "num_runs = 10\n",
    "\n",
    "if ga_experiments:\n",
    "    print(f\"Running GA experiments with {num_runs} iterations...\")\n",
    "    repeated_results = ga_executor.run_repeated_experiment(ga_experiments[0], num_runs=num_runs)\n",
    "\n",
    "    fitness_values = [result['sharpe_ratio'] for result in repeated_results]\n",
    "\n",
    "    print(f\"Best fitness: {max(fitness_values):.4f}\")\n",
    "    print(f\"Mean fitness: {np.mean(fitness_values):.4f} ± {np.std(fitness_values):.4f}\")\n",
    "else:\n",
    "    print(\"No experiments found to run.\")"
   ]
  },
  {
   "cell_type": "code",
   "execution_count": null,
   "id": "a9fa5737",
   "metadata": {},
   "outputs": [],
   "source": [
    "# Save results to a CSV file\n",
    "results_df = pd.DataFrame(ga_executor.results)\n",
    "results_file = f\"{RESULTS_PATH}/experiment_{num_exp}_{num_runs}_iterations.csv\"\n",
    "results_df.to_csv(results_file, index=False)\n",
    "\n",
    "print(f\"Results saved to {results_file}\")"
   ]
  },
  {
   "cell_type": "markdown",
   "id": "8ab240b0",
   "metadata": {},
   "source": [
    "## Run all experiments"
   ]
  },
  {
   "cell_type": "code",
   "execution_count": null,
   "id": "e60c8cd0",
   "metadata": {},
   "outputs": [],
   "source": [
    "# Run all experiments 31 times\n",
    "num_runs = 31\n",
    "\n",
    "if ga_experiments:\n",
    "    print(f\"Running all GA experiments with {num_runs} iterations...\")\n",
    "    ga_executor.run_all_experiments(ga_experiments, num_runs=num_runs)\n",
    "else:\n",
    "    print(\"No experiments found to run.\")"
   ]
  },
  {
   "cell_type": "code",
   "execution_count": null,
   "id": "788460ca",
   "metadata": {},
   "outputs": [],
   "source": [
    "# Save results to a CSV file\n",
    "results_df = pd.DataFrame(ga_executor.results)\n",
    "results_file = f\"{RESULTS_PATH}/ga_results_{num_runs}_iterations.csv\"\n",
    "results_df.to_csv(results_file, index=False)\n",
    "\n",
    "print(f\"Results saved to {results_file}\")"
   ]
  }
 ],
 "metadata": {
  "kernelspec": {
   "display_name": ".venv",
   "language": "python",
   "name": "python3"
  },
  "language_info": {
   "codemirror_mode": {
    "name": "ipython",
    "version": 3
   },
   "file_extension": ".py",
   "mimetype": "text/x-python",
   "name": "python",
   "nbconvert_exporter": "python",
   "pygments_lexer": "ipython3",
   "version": "3.13.3"
  }
 },
 "nbformat": 4,
 "nbformat_minor": 5
}
