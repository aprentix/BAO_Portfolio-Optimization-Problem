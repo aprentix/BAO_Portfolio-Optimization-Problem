{
 "cells": [
  {
   "cell_type": "markdown",
   "id": "93e69f65",
   "metadata": {},
   "source": [
    "# Genetic Algorithm Portfolio Optimization"
   ]
  },
  {
   "cell_type": "markdown",
   "id": "303ac956",
   "metadata": {},
   "source": [
    "## Dependencies Set-up"
   ]
  },
  {
   "cell_type": "code",
   "execution_count": 1,
   "id": "ae67c4e0",
   "metadata": {},
   "outputs": [],
   "source": [
    "# --- Import Required Libraries ---\n",
    "import os\n",
    "import sys\n",
    "from pathlib import Path\n",
    "import pandas as pd\n",
    "import numpy as np\n",
    "\n",
    "# --- Set Up Paths ---\n",
    "ROOT_PATH = os.path.abspath(os.path.join(os.getcwd(), '..'))\n",
    "if ROOT_PATH not in sys.path:\n",
    "    sys.path.insert(0, ROOT_PATH)\n",
    "    \n",
    "# --- Import Custom Libraries ---\n",
    "from pop.runner import runner\n",
    "from pop.util.print_results import print_results"
   ]
  },
  {
   "cell_type": "markdown",
   "id": "0db02cc4",
   "metadata": {},
   "source": [
    "## Parameters Definition"
   ]
  },
  {
   "cell_type": "code",
   "execution_count": 2,
   "id": "94b922ef",
   "metadata": {},
   "outputs": [],
   "source": [
    "# --- Define Experiment Parameters ---\n",
    "# Algorithm type: 'ga' (Genetic Algorithm) or 'pso' (Particle Swarm Optimization)\n",
    "algorithm_type = \"ga\"\n",
    "\n",
    "# Dataset folder name\n",
    "dataset_folder_name = \"../dataset\"\n",
    "\n",
    "# Number of companies to include in the portfolio\n",
    "num_companies = 30\n",
    "\n",
    "# Annual risk-free rate\n",
    "risk_free_rate_annual = 0.042\n",
    "\n",
    "# Analysis period\n",
    "start_date = \"2015-01-01\"\n",
    "end_date = \"2020-01-01\"\n",
    "\n",
    "# Correlation level (optional): 'low', 'medium', 'high', or None\n",
    "correlation_level = None\n",
    "\n",
    "# Random seed for reproducibility\n",
    "seed = 0"
   ]
  },
  {
   "cell_type": "markdown",
   "id": "02a338e0",
   "metadata": {},
   "source": [
    "## Hyperparameter & Model Configuration"
   ]
  },
  {
   "cell_type": "code",
   "execution_count": 3,
   "id": "23ca7909",
   "metadata": {},
   "outputs": [],
   "source": [
    "# --- Algorithm-Specific Parameters ---\n",
    "# GA Parameters\n",
    "ga_params = {\n",
    "    \"pop_size\": 100,\n",
    "    \"max_generations\": 300,\n",
    "    \"mutation_rate\": 0.1,\n",
    "    \"gaussian_stdev\": 0.1,\n",
    "    \"num_elites\": 1,\n",
    "    \"tournament_size\": 3,\n",
    "}\n",
    "\n",
    "# PSO Parameters\n",
    "pso_params = {\n",
    "    \"swarm_size\": 100,\n",
    "    \"max_iterations\": 300,\n",
    "    \"w\": 0.5,\n",
    "    \"c1\": 1.5,\n",
    "    \"c2\": 2.0,\n",
    "}\n",
    "\n",
    "# Repair method for constraint handling\n",
    "repair_method = \"normalize\""
   ]
  },
  {
   "cell_type": "markdown",
   "id": "51fc50c2",
   "metadata": {},
   "source": [
    "## Experiment Execution"
   ]
  },
  {
   "cell_type": "code",
   "execution_count": null,
   "id": "642f0dc5",
   "metadata": {},
   "outputs": [],
   "source": [
    "# --- Execute Experiment ---\n",
    "if algorithm_type == \"ga\":\n",
    "    params = ga_params\n",
    "elif algorithm_type == \"pso\":\n",
    "    params = pso_params\n",
    "else:\n",
    "    raise ValueError(\"Invalid algorithm type. Choose 'ga' or 'pso'.\")\n",
    "\n",
    "# Run the experiment\n",
    "sharpe_ratio, annual_return, weights = runner(\n",
    "    algorithm_type=algorithm_type,\n",
    "    dataset_folder_name=dataset_folder_name,\n",
    "    num_companies=num_companies,\n",
    "    risk_free_rate_annual=risk_free_rate_annual,\n",
    "    start_date=start_date,\n",
    "    end_date=end_date,\n",
    "    correlation_level=correlation_level,\n",
    "    seed=seed,\n",
    "    repair_method=repair_method,\n",
    "    **params\n",
    ")\n",
    "\n",
    "# --- Display Results ---\n",
    "print_results(sharpe_ratio, annual_return, weights)"
   ]
  },
  {
   "cell_type": "code",
   "execution_count": null,
   "id": "2710d3a0",
   "metadata": {},
   "outputs": [],
   "source": [
    "# Save results to a CSV file\n",
    "results_df = pd.DataFrame(result)\n",
    "\n",
    "# Define the results file path dynamically\n",
    "results_file = f\"{RESULTS_PATH}/experiment_{num_exp}_{num_runs}_iterations.csv\"\n",
    "\n",
    "# Save the DataFrame to CSV\n",
    "results_df.to_csv(results_file, index=False)\n",
    "\n",
    "# Print confirmation message\n",
    "print(f\"Results saved to {results_file}\")"
   ]
  },
  {
   "cell_type": "markdown",
   "id": "a2572c2a",
   "metadata": {},
   "source": [
    "## Visualize fitness evolution"
   ]
  },
  {
   "cell_type": "code",
   "execution_count": null,
   "id": "5cd2a3ca",
   "metadata": {},
   "outputs": [],
   "source": [
    "# Plot fitness evolution for each experiment\n",
    "for result in executor.results:\n",
    "    plt.plot(result['convergence_history'], label=f\"Experiment {result['experiment_id']}\")\n",
    "\n",
    "# Add labels and title\n",
    "plt.title(f\"GA Fitness Evolution ({num_runs} Iterations)\")\n",
    "plt.xlabel(\"Generations\")\n",
    "plt.ylabel(\"Fitness\")\n",
    "plt.legend()"
   ]
  },
  {
   "cell_type": "code",
   "execution_count": null,
   "id": "f118c983",
   "metadata": {},
   "outputs": [],
   "source": [
    "# Save the plot\n",
    "results_file = f\"{RESULTS_PATH}/experiment_{num_exp}_{num_runs}_iterations_fitness.png\"\n",
    "results_file = f\"{RESULTS_PATH}/experiment_{num_exp}_{num_runs}_iterations_fitness.png\"\n",
    "plt.savefig(results_file)\n",
    "plt.clf()\n",
    "\n",
    "print(f\"Fitness evolution plot saved to {results_file}\")"
   ]
  },
  {
   "cell_type": "markdown",
   "id": "6f000c54",
   "metadata": {},
   "source": [
    "## Visualize diversity evolution"
   ]
  },
  {
   "cell_type": "code",
   "execution_count": null,
   "id": "6a27e6aa",
   "metadata": {},
   "outputs": [],
   "source": [
    "# Plot diversity evolution\n",
    "for result in ga_executor.results:\n",
    "    if 'diversity_history' in result:\n",
    "        plt.plot(result['diversity_history'], label=f\"Experiment {result['experiment_id', 'N/A']}\")\n",
    "        plt.plot(result['diversity_history'], label=f\"Experiment {result['experiment_id', 'N/A']}\")\n",
    "        \n",
    "# Add labels and title\n",
    "plt.title(f\"GA Diversity Evolution ({num_runs} Iterations)\")\n",
    "plt.xlabel(\"Generations\")\n",
    "plt.ylabel(\"Diversity\")\n",
    "plt.legend()"
   ]
  },
  {
   "cell_type": "code",
   "execution_count": null,
   "id": "0b297c53",
   "metadata": {},
   "outputs": [],
   "source": [
    "# Save the plot\n",
    "results_file = f\"{RESULTS_PATH}/experiment_{num_exp}_{num_runs}_iterations_diversity.png\"\n",
    "results_file = f\"{RESULTS_PATH}/experiment_{num_exp}_{num_runs}_iterations_diversity.png\"\n",
    "plt.savefig(results_file)\n",
    "plt.clf()\n",
    "\n",
    "print(f\"Diversity plot saved to {results_file}\")"
   ]
  }
 ],
 "metadata": {
  "kernelspec": {
   "display_name": ".venv",
   "language": "python",
   "name": "python3"
  },
  "language_info": {
   "codemirror_mode": {
    "name": "ipython",
    "version": 3
   },
   "file_extension": ".py",
   "mimetype": "text/x-python",
   "name": "python",
   "nbconvert_exporter": "python",
   "pygments_lexer": "ipython3",
   "version": "3.12.0"
  }
 },
 "nbformat": 4,
 "nbformat_minor": 5
}
