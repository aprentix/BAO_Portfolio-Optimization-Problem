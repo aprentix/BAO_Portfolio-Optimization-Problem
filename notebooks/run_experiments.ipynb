{
 "cells": [
  {
   "cell_type": "markdown",
   "id": "93e69f65",
   "metadata": {},
   "source": [
    "# Genetic Algorithm Portfolio Optimization"
   ]
  },
  {
   "cell_type": "markdown",
   "id": "303ac956",
   "metadata": {},
   "source": [
    "## Dependencies Set-up"
   ]
  },
  {
   "cell_type": "code",
   "execution_count": null,
   "id": "ae67c4e0",
   "metadata": {},
   "outputs": [],
   "source": [
    "# --- Import Required Libraries ---\n",
    "import os\n",
    "import sys\n",
    "from pathlib import Path\n",
    "import pandas as pd\n",
    "import numpy as np\n",
    "\n",
    "# --- Set Up Paths ---\n",
    "ROOT_PATH = os.path.abspath(os.path.join(os.getcwd(), '..'))\n",
    "if ROOT_PATH not in sys.path:\n",
    "    sys.path.insert(0, ROOT_PATH)\n",
    "    \n",
    "# --- Import Custom Libraries ---\n",
    "from pop.runner import runner\n",
    "from pop.dataset.dataset_manager import DatasetManager\n",
    "from pop.util.print_results import print_results"
   ]
  },
  {
   "cell_type": "markdown",
   "id": "0db02cc4",
   "metadata": {},
   "source": [
    "## Parameters Definition"
   ]
  },
  {
   "cell_type": "code",
   "execution_count": 2,
   "id": "94b922ef",
   "metadata": {},
   "outputs": [],
   "source": [
    "# --- Define Experiment Parameters ---\n",
    "# Algorithm type: 'ga' (Genetic Algorithm) or 'pso' (Particle Swarm Optimization)\n",
    "algorithm_type = \"ga\"\n",
    "\n",
    "# Dataset folder name\n",
    "dataset_folder_name = \"../dataset\"\n",
    "\n",
    "# Number of companies to include in the portfolio\n",
    "num_companies = 30\n",
    "\n",
    "# Annual risk-free rate\n",
    "risk_free_rate_annual = 0.042\n",
    "\n",
    "# Analysis period\n",
    "start_date = \"2015-01-01\"\n",
    "end_date = \"2020-01-01\"\n",
    "\n",
    "# Correlation level (optional): 'low', 'medium', 'high', or None\n",
    "correlation_level = None\n",
    "\n",
    "# Random seed for reproducibility\n",
    "seed = 0"
   ]
  },
  {
   "cell_type": "markdown",
   "id": "02a338e0",
   "metadata": {},
   "source": [
    "## Hyperparameter & Model Configuration"
   ]
  },
  {
   "cell_type": "code",
   "execution_count": 3,
   "id": "23ca7909",
   "metadata": {},
   "outputs": [],
   "source": [
    "# --- Algorithm-Specific Parameters ---\n",
    "# GA Parameters\n",
    "ga_params = {\n",
    "    \"pop_size\": 100,\n",
    "    \"max_generations\": 300,\n",
    "    \"mutation_rate\": 0.1,\n",
    "    \"gaussian_stdev\": 0.1,\n",
    "    \"num_elites\": 1,\n",
    "    \"tournament_size\": 3,\n",
    "}\n",
    "\n",
    "# PSO Parameters\n",
    "pso_params = {\n",
    "    \"swarm_size\": 100,\n",
    "    \"max_iterations\": 300,\n",
    "    \"w\": 0.5,\n",
    "    \"c1\": 1.5,\n",
    "    \"c2\": 2.0,\n",
    "}\n",
    "\n",
    "# Repair method for constraint handling\n",
    "repair_method = \"normalize\""
   ]
  },
  {
   "cell_type": "markdown",
   "id": "51fc50c2",
   "metadata": {},
   "source": [
    "## Experiment Execution"
   ]
  },
  {
   "cell_type": "code",
   "execution_count": 5,
   "id": "642f0dc5",
   "metadata": {},
   "outputs": [
    {
     "name": "stdout",
     "output_type": "stream",
     "text": [
      "\n",
      "================================================================================\n",
      "                         PORTFOLIO OPTIMIZATION RESULTS\n",
      "================================================================================\n",
      "\n",
      "Sharpe Ratio: [-inf, -inf, -inf, -inf, -inf, -inf, -inf, -inf, -inf, -inf, -inf, -inf, -inf, -inf, -inf, -inf, -inf, -inf, -inf, -inf, -inf, -inf, -inf, -inf, -inf, -inf, -inf, -inf, -inf, -inf]\n",
      "Annual Return: 43.4899864245386 (4348.99864245386%)\n",
      "\n",
      "Portfolio Distribution:\n",
      "--------------------------------------------------------------------------------\n",
      "Company                                           Weight      Percentage\n",
      "--------------------------------------------------------------------------------\n",
      "Frequency Electronics, Inc. - Common Stock        1.0000         100.00%\n",
      "Sinclair Broadcast Group, Inc. - Class A Com...     0.9012          90.12%\n",
      "SITE Centers Corp. Common Stock                   0.8600          86.00%\n",
      "Nuveen New York Select Tax-Free Income Portf...     0.8575          85.75%\n",
      "United Airlines Holdings, Inc. - Common Stoc...     0.7944          79.44%\n",
      "Ellington Financial Inc. Common Stock             0.7701          77.01%\n",
      "Kandi Technologies Group, Inc. - Common Stoc...     0.7432          74.32%\n",
      "Primerica, Inc. Common Stock                      0.7326          73.26%\n",
      "EastGroup Properties, Inc. Common Stock           0.6724          67.24%\n",
      "United Fire Group, Inc - Common Stock             0.6709          67.09%\n",
      "Air T, Inc. - Common Stock                        0.6628          66.28%\n",
      "Natuzzi, S.p.A.                                   0.6379          63.79%\n",
      "Intuitive Surgical, Inc. - Common Stock           0.6108          61.08%\n",
      "Great Panther Mining Limited Ordinary Shares...     0.5414          54.14%\n",
      "AB Svensk Ekportkredit (Swedish Export Credi...     0.5215          52.15%\n",
      "AirNet Technology Inc. - American Depositary...     0.4834          48.34%\n",
      "Guaranty Federal Bancshares, Inc. - Common S...     0.4826          48.26%\n",
      "NVR, Inc. Common Stock                            0.4710          47.10%\n",
      "BlackRock New York Municipal Income Trust         0.4514          45.14%\n",
      "HubSpot, Inc. Common Stock                        0.4352          43.52%\n",
      "Regional Health Properties, Inc. Common Stoc...     0.4117          41.17%\n",
      "Innovative Solutions and Support, Inc. - Com...     0.4104          41.04%\n",
      "Unit Corporation Common Stock                     0.3055          30.55%\n",
      "Carolina Financial Corporation - Common Stoc...     0.3049          30.49%\n",
      "Advanced Energy Industries, Inc. - Common St...     0.2379          23.79%\n",
      "Nuveen Municipal Credit Income Fund               0.2312          23.12%\n",
      "T. Rowe Price Group, Inc. - Common Stock          0.2236          22.36%\n",
      "Transcat, Inc. - Common Stock                     0.0750           7.50%\n",
      "Cisco Systems, Inc. - Common Stock                0.0537           5.37%\n",
      "Eaton Vance Floating Rate Income Trust Commo...     0.0000           0.00%\n",
      "--------------------------------------------------------------------------------\n",
      "\n",
      "Summary: 29 active positions out of 30 total companies\n",
      "================================================================================\n",
      "\n"
     ]
    }
   ],
   "source": [
    "# --- Execute Experiment ---\n",
    "if algorithm_type == \"ga\":\n",
    "    params = ga_params\n",
    "elif algorithm_type == \"pso\":\n",
    "    params = pso_params\n",
    "else:\n",
    "    raise ValueError(\"Invalid algorithm type. Choose 'ga' or 'pso'.\")\n",
    "\n",
    "# Run the experiment\n",
    "sharpe_ratio, annual_return, weights = runner(\n",
    "    algorithm_type=algorithm_type,\n",
    "    dataset_folder_name=dataset_folder_name,\n",
    "    num_companies=num_companies,\n",
    "    risk_free_rate_annual=risk_free_rate_annual,\n",
    "    start_date=start_date,\n",
    "    end_date=end_date,\n",
    "    correlation_level=correlation_level,\n",
    "    seed=seed,\n",
    "    repair_method=repair_method,\n",
    "    **params\n",
    ")\n",
    "\n",
    "# --- Display Results ---\n",
    "print_results(sharpe_ratio, annual_return, weights)"
   ]
  },
  {
   "cell_type": "code",
   "execution_count": null,
   "id": "2710d3a0",
   "metadata": {},
   "outputs": [],
   "source": [
    "# Save results to a CSV file\n",
    "results_df = pd.DataFrame(result)\n",
    "\n",
    "# Define the results file path dynamically\n",
    "results_file = f\"{RESULTS_PATH}/experiment_{num_exp}_{num_runs}_iterations.csv\"\n",
    "\n",
    "# Save the DataFrame to CSV\n",
    "results_df.to_csv(results_file, index=False)\n",
    "\n",
    "# Print confirmation message\n",
    "print(f\"Results saved to {results_file}\")"
   ]
  },
  {
   "cell_type": "markdown",
   "id": "a2572c2a",
   "metadata": {},
   "source": [
    "## Visualize fitness evolution"
   ]
  },
  {
   "cell_type": "code",
   "execution_count": 71,
   "id": "5cd2a3ca",
   "metadata": {},
   "outputs": [
    {
     "ename": "AttributeError",
     "evalue": "'ExperimentExecutor' object has no attribute 'results'",
     "output_type": "error",
     "traceback": [
      "\u001b[31m---------------------------------------------------------------------------\u001b[39m",
      "\u001b[31mAttributeError\u001b[39m                            Traceback (most recent call last)",
      "\u001b[36mCell\u001b[39m\u001b[36m \u001b[39m\u001b[32mIn[71]\u001b[39m\u001b[32m, line 2\u001b[39m\n\u001b[32m      1\u001b[39m \u001b[38;5;66;03m# Plot fitness evolution for each experiment\u001b[39;00m\n\u001b[32m----> \u001b[39m\u001b[32m2\u001b[39m \u001b[38;5;28;01mfor\u001b[39;00m result \u001b[38;5;129;01min\u001b[39;00m \u001b[43mexecutor\u001b[49m\u001b[43m.\u001b[49m\u001b[43mresults\u001b[49m:\n\u001b[32m      3\u001b[39m     plt.plot(result[\u001b[33m'\u001b[39m\u001b[33mconvergence_history\u001b[39m\u001b[33m'\u001b[39m], label=\u001b[33mf\u001b[39m\u001b[33m\"\u001b[39m\u001b[33mExperiment \u001b[39m\u001b[38;5;132;01m{\u001b[39;00mresult[\u001b[33m'\u001b[39m\u001b[33mexperiment_id\u001b[39m\u001b[33m'\u001b[39m]\u001b[38;5;132;01m}\u001b[39;00m\u001b[33m\"\u001b[39m)\n\u001b[32m      5\u001b[39m \u001b[38;5;66;03m# Add labels and title\u001b[39;00m\n",
      "\u001b[31mAttributeError\u001b[39m: 'ExperimentExecutor' object has no attribute 'results'"
     ]
    }
   ],
   "source": [
    "# Plot fitness evolution for each experiment\n",
    "for result in executor.results:\n",
    "    plt.plot(result['convergence_history'], label=f\"Experiment {result['experiment_id']}\")\n",
    "\n",
    "# Add labels and title\n",
    "plt.title(f\"GA Fitness Evolution ({num_runs} Iterations)\")\n",
    "plt.xlabel(\"Generations\")\n",
    "plt.ylabel(\"Fitness\")\n",
    "plt.legend()"
   ]
  },
  {
   "cell_type": "code",
   "execution_count": null,
   "id": "f118c983",
   "metadata": {},
   "outputs": [],
   "source": [
    "# Save the plot\n",
    "results_file = f\"{RESULTS_PATH}/experiment_{num_exp}_{num_runs}_iterations_fitness.png\"\n",
    "results_file = f\"{RESULTS_PATH}/experiment_{num_exp}_{num_runs}_iterations_fitness.png\"\n",
    "plt.savefig(results_file)\n",
    "plt.clf()\n",
    "\n",
    "print(f\"Fitness evolution plot saved to {results_file}\")"
   ]
  },
  {
   "cell_type": "markdown",
   "id": "6f000c54",
   "metadata": {},
   "source": [
    "## Visualize diversity evolution"
   ]
  },
  {
   "cell_type": "code",
   "execution_count": null,
   "id": "6a27e6aa",
   "metadata": {},
   "outputs": [],
   "source": [
    "# Plot diversity evolution\n",
    "for result in ga_executor.results:\n",
    "    if 'diversity_history' in result:\n",
    "        plt.plot(result['diversity_history'], label=f\"Experiment {result['experiment_id', 'N/A']}\")\n",
    "        plt.plot(result['diversity_history'], label=f\"Experiment {result['experiment_id', 'N/A']}\")\n",
    "        \n",
    "# Add labels and title\n",
    "plt.title(f\"GA Diversity Evolution ({num_runs} Iterations)\")\n",
    "plt.xlabel(\"Generations\")\n",
    "plt.ylabel(\"Diversity\")\n",
    "plt.legend()"
   ]
  },
  {
   "cell_type": "code",
   "execution_count": null,
   "id": "0b297c53",
   "metadata": {},
   "outputs": [],
   "source": [
    "# Save the plot\n",
    "results_file = f\"{RESULTS_PATH}/experiment_{num_exp}_{num_runs}_iterations_diversity.png\"\n",
    "results_file = f\"{RESULTS_PATH}/experiment_{num_exp}_{num_runs}_iterations_diversity.png\"\n",
    "plt.savefig(results_file)\n",
    "plt.clf()\n",
    "\n",
    "print(f\"Diversity plot saved to {results_file}\")"
   ]
  }
 ],
 "metadata": {
  "kernelspec": {
   "display_name": ".venv",
   "language": "python",
   "name": "python3"
  },
  "language_info": {
   "codemirror_mode": {
    "name": "ipython",
    "version": 3
   },
   "file_extension": ".py",
   "mimetype": "text/x-python",
   "name": "python",
   "nbconvert_exporter": "python",
   "pygments_lexer": "ipython3",
   "version": "3.12.0"
  }
 },
 "nbformat": 4,
 "nbformat_minor": 5
}
