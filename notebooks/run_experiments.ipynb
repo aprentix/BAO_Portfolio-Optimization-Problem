{
 "cells": [
  {
   "cell_type": "markdown",
   "id": "93e69f65",
   "metadata": {},
   "source": [
    "# Genetic Algorithm Portfolio Optimization"
   ]
  },
  {
   "cell_type": "markdown",
   "id": "303ac956",
   "metadata": {},
   "source": [
    "## Dependencies Set-up"
   ]
  },
  {
   "cell_type": "code",
   "execution_count": 1,
   "id": "ae67c4e0",
   "metadata": {},
   "outputs": [],
   "source": [
    "# --- Import Required Libraries ---\n",
    "import os\n",
    "import sys\n",
    "import matplotlib.pyplot as plt\n",
    "\n",
    "# --- Set Up Paths ---\n",
    "ROOT_PATH = os.path.abspath(os.path.join(os.getcwd(), '..'))\n",
    "if ROOT_PATH not in sys.path:\n",
    "    sys.path.insert(0, ROOT_PATH)\n",
    "    \n",
    "# --- Import Custom Libraries ---\n",
    "from pop.runner import runner\n",
    "from pop.util.print_results import print_results\n",
    "from pop.util.file_saver import prepare_file_saving, save_results, save_fitness_history, save_diversity_history"
   ]
  },
  {
   "cell_type": "markdown",
   "id": "0db02cc4",
   "metadata": {},
   "source": [
    "## Parameters Definition"
   ]
  },
  {
   "cell_type": "code",
   "execution_count": 6,
   "id": "94b922ef",
   "metadata": {},
   "outputs": [],
   "source": [
    "# --- Define Experiment Parameters ---\n",
    "# Algorithm type: 'ga' (Genetic Algorithm) or 'pso' (Particle Swarm Optimization)\n",
    "algorithm_type = \"ga\"\n",
    "\n",
    "# Dataset folder name\n",
    "dataset_folder_name = \"../dataset\"\n",
    "\n",
    "# Number of companies to include in the portfolio\n",
    "num_companies = 300\n",
    "\n",
    "# Annual risk-free rate\n",
    "risk_free_rate_annual = 0.042\n",
    "\n",
    "# Analysis period\n",
    "start_date = \"2015-01-01\"\n",
    "end_date = \"2020-01-01\"\n",
    "\n",
    "# Correlation level (optional): 'low', 'medium', 'high', or None\n",
    "correlation_level = 'low'\n",
    "\n",
    "# Random seed for reproducibility\n",
    "seed = 0"
   ]
  },
  {
   "cell_type": "markdown",
   "id": "02a338e0",
   "metadata": {},
   "source": [
    "## Hyperparameter & Model Configuration"
   ]
  },
  {
   "cell_type": "code",
   "execution_count": 8,
   "id": "23ca7909",
   "metadata": {},
   "outputs": [],
   "source": [
    "# --- Algorithm-Specific Parameters ---\n",
    "# GA Parameters\n",
    "ga_params = {\n",
    "    \"pop_size\": 100,\n",
    "    \"max_generations\": 300,\n",
    "    \"mutation_rate\": 0.1,\n",
    "    \"gaussian_stdev\": 0.1,\n",
    "    \"num_elites\": 1,\n",
    "    \"tournament_size\": 3,\n",
    "}\n",
    "\n",
    "# PSO Parameters\n",
    "pso_params = {\n",
    "    \"swarm_size\": 100,\n",
    "    \"max_iterations\": 300,\n",
    "    \"w\": 0.5,\n",
    "    \"c1\": 1.5,\n",
    "    \"c2\": 2.0,\n",
    "}\n",
    "\n",
    "# Repair method for constraint handling: 'normalize', 'clip', 'restart', 'shrink'\n",
    "repair_method = \"shrink\""
   ]
  },
  {
   "cell_type": "markdown",
   "id": "51fc50c2",
   "metadata": {},
   "source": [
    "## Experiment Execution"
   ]
  },
  {
   "cell_type": "code",
   "execution_count": 9,
   "id": "642f0dc5",
   "metadata": {},
   "outputs": [
    {
     "ename": "KeyError",
     "evalue": "'One or more symbols not found in metadata: \"[\\'UTX#\\'] not in index\"'",
     "output_type": "error",
     "traceback": [
      "\u001b[31m---------------------------------------------------------------------------\u001b[39m",
      "\u001b[31mKeyError\u001b[39m                                  Traceback (most recent call last)",
      "\u001b[36mFile \u001b[39m\u001b[32mc:\\Users\\Leonidas Brando\\OneDrive - Universidad Politécnica de Madrid\\2nd half - third year\\bioinspired algorithms for optimization\\project\\portfolio_optimization\\pop\\dataset\\dataset_manager.py:178\u001b[39m, in \u001b[36mDatasetManager.get_full_companies_names\u001b[39m\u001b[34m(self, symbols)\u001b[39m\n\u001b[32m    177\u001b[39m \u001b[38;5;28;01mtry\u001b[39;00m:\n\u001b[32m--> \u001b[39m\u001b[32m178\u001b[39m     \u001b[38;5;28;01mreturn\u001b[39;00m \u001b[43mdf\u001b[49m\u001b[43m.\u001b[49m\u001b[43mloc\u001b[49m\u001b[43m[\u001b[49m\u001b[43msymbols\u001b[49m\u001b[43m,\u001b[49m\u001b[43m \u001b[49m\u001b[33;43m\"\u001b[39;49m\u001b[33;43mSecurity Name\u001b[39;49m\u001b[33;43m\"\u001b[39;49m\u001b[43m]\u001b[49m\n\u001b[32m    179\u001b[39m \u001b[38;5;28;01mexcept\u001b[39;00m \u001b[38;5;167;01mKeyError\u001b[39;00m \u001b[38;5;28;01mas\u001b[39;00m e:\n",
      "\u001b[36mFile \u001b[39m\u001b[32mc:\\Users\\Leonidas Brando\\OneDrive - Universidad Politécnica de Madrid\\2nd half - third year\\bioinspired algorithms for optimization\\project\\portfolio_optimization\\.venv\\Lib\\site-packages\\pandas\\core\\indexing.py:1184\u001b[39m, in \u001b[36m_LocationIndexer.__getitem__\u001b[39m\u001b[34m(self, key)\u001b[39m\n\u001b[32m   1183\u001b[39m         \u001b[38;5;28;01mreturn\u001b[39;00m \u001b[38;5;28mself\u001b[39m.obj._get_value(*key, takeable=\u001b[38;5;28mself\u001b[39m._takeable)\n\u001b[32m-> \u001b[39m\u001b[32m1184\u001b[39m     \u001b[38;5;28;01mreturn\u001b[39;00m \u001b[38;5;28;43mself\u001b[39;49m\u001b[43m.\u001b[49m\u001b[43m_getitem_tuple\u001b[49m\u001b[43m(\u001b[49m\u001b[43mkey\u001b[49m\u001b[43m)\u001b[49m\n\u001b[32m   1185\u001b[39m \u001b[38;5;28;01melse\u001b[39;00m:\n\u001b[32m   1186\u001b[39m     \u001b[38;5;66;03m# we by definition only have the 0th axis\u001b[39;00m\n",
      "\u001b[36mFile \u001b[39m\u001b[32mc:\\Users\\Leonidas Brando\\OneDrive - Universidad Politécnica de Madrid\\2nd half - third year\\bioinspired algorithms for optimization\\project\\portfolio_optimization\\.venv\\Lib\\site-packages\\pandas\\core\\indexing.py:1368\u001b[39m, in \u001b[36m_LocIndexer._getitem_tuple\u001b[39m\u001b[34m(self, tup)\u001b[39m\n\u001b[32m   1367\u001b[39m     tup = \u001b[38;5;28mself\u001b[39m._expand_ellipsis(tup)\n\u001b[32m-> \u001b[39m\u001b[32m1368\u001b[39m     \u001b[38;5;28;01mreturn\u001b[39;00m \u001b[38;5;28;43mself\u001b[39;49m\u001b[43m.\u001b[49m\u001b[43m_getitem_lowerdim\u001b[49m\u001b[43m(\u001b[49m\u001b[43mtup\u001b[49m\u001b[43m)\u001b[49m\n\u001b[32m   1370\u001b[39m \u001b[38;5;66;03m# no multi-index, so validate all of the indexers\u001b[39;00m\n",
      "\u001b[36mFile \u001b[39m\u001b[32mc:\\Users\\Leonidas Brando\\OneDrive - Universidad Politécnica de Madrid\\2nd half - third year\\bioinspired algorithms for optimization\\project\\portfolio_optimization\\.venv\\Lib\\site-packages\\pandas\\core\\indexing.py:1089\u001b[39m, in \u001b[36m_LocationIndexer._getitem_lowerdim\u001b[39m\u001b[34m(self, tup)\u001b[39m\n\u001b[32m   1088\u001b[39m         \u001b[38;5;66;03m# This is an elided recursive call to iloc/loc\u001b[39;00m\n\u001b[32m-> \u001b[39m\u001b[32m1089\u001b[39m         \u001b[38;5;28;01mreturn\u001b[39;00m \u001b[38;5;28;43mgetattr\u001b[39;49m\u001b[43m(\u001b[49m\u001b[43msection\u001b[49m\u001b[43m,\u001b[49m\u001b[43m \u001b[49m\u001b[38;5;28;43mself\u001b[39;49m\u001b[43m.\u001b[49m\u001b[43mname\u001b[49m\u001b[43m)\u001b[49m\u001b[43m[\u001b[49m\u001b[43mnew_key\u001b[49m\u001b[43m]\u001b[49m\n\u001b[32m   1091\u001b[39m \u001b[38;5;28;01mraise\u001b[39;00m IndexingError(\u001b[33m\"\u001b[39m\u001b[33mnot applicable\u001b[39m\u001b[33m\"\u001b[39m)\n",
      "\u001b[36mFile \u001b[39m\u001b[32mc:\\Users\\Leonidas Brando\\OneDrive - Universidad Politécnica de Madrid\\2nd half - third year\\bioinspired algorithms for optimization\\project\\portfolio_optimization\\.venv\\Lib\\site-packages\\pandas\\core\\indexing.py:1191\u001b[39m, in \u001b[36m_LocationIndexer.__getitem__\u001b[39m\u001b[34m(self, key)\u001b[39m\n\u001b[32m   1190\u001b[39m maybe_callable = \u001b[38;5;28mself\u001b[39m._check_deprecated_callable_usage(key, maybe_callable)\n\u001b[32m-> \u001b[39m\u001b[32m1191\u001b[39m \u001b[38;5;28;01mreturn\u001b[39;00m \u001b[38;5;28;43mself\u001b[39;49m\u001b[43m.\u001b[49m\u001b[43m_getitem_axis\u001b[49m\u001b[43m(\u001b[49m\u001b[43mmaybe_callable\u001b[49m\u001b[43m,\u001b[49m\u001b[43m \u001b[49m\u001b[43maxis\u001b[49m\u001b[43m=\u001b[49m\u001b[43maxis\u001b[49m\u001b[43m)\u001b[49m\n",
      "\u001b[36mFile \u001b[39m\u001b[32mc:\\Users\\Leonidas Brando\\OneDrive - Universidad Politécnica de Madrid\\2nd half - third year\\bioinspired algorithms for optimization\\project\\portfolio_optimization\\.venv\\Lib\\site-packages\\pandas\\core\\indexing.py:1420\u001b[39m, in \u001b[36m_LocIndexer._getitem_axis\u001b[39m\u001b[34m(self, key, axis)\u001b[39m\n\u001b[32m   1418\u001b[39m         \u001b[38;5;28;01mraise\u001b[39;00m \u001b[38;5;167;01mValueError\u001b[39;00m(\u001b[33m\"\u001b[39m\u001b[33mCannot index with multidimensional key\u001b[39m\u001b[33m\"\u001b[39m)\n\u001b[32m-> \u001b[39m\u001b[32m1420\u001b[39m     \u001b[38;5;28;01mreturn\u001b[39;00m \u001b[38;5;28;43mself\u001b[39;49m\u001b[43m.\u001b[49m\u001b[43m_getitem_iterable\u001b[49m\u001b[43m(\u001b[49m\u001b[43mkey\u001b[49m\u001b[43m,\u001b[49m\u001b[43m \u001b[49m\u001b[43maxis\u001b[49m\u001b[43m=\u001b[49m\u001b[43maxis\u001b[49m\u001b[43m)\u001b[49m\n\u001b[32m   1422\u001b[39m \u001b[38;5;66;03m# nested tuple slicing\u001b[39;00m\n",
      "\u001b[36mFile \u001b[39m\u001b[32mc:\\Users\\Leonidas Brando\\OneDrive - Universidad Politécnica de Madrid\\2nd half - third year\\bioinspired algorithms for optimization\\project\\portfolio_optimization\\.venv\\Lib\\site-packages\\pandas\\core\\indexing.py:1360\u001b[39m, in \u001b[36m_LocIndexer._getitem_iterable\u001b[39m\u001b[34m(self, key, axis)\u001b[39m\n\u001b[32m   1359\u001b[39m \u001b[38;5;66;03m# A collection of keys\u001b[39;00m\n\u001b[32m-> \u001b[39m\u001b[32m1360\u001b[39m keyarr, indexer = \u001b[38;5;28;43mself\u001b[39;49m\u001b[43m.\u001b[49m\u001b[43m_get_listlike_indexer\u001b[49m\u001b[43m(\u001b[49m\u001b[43mkey\u001b[49m\u001b[43m,\u001b[49m\u001b[43m \u001b[49m\u001b[43maxis\u001b[49m\u001b[43m)\u001b[49m\n\u001b[32m   1361\u001b[39m \u001b[38;5;28;01mreturn\u001b[39;00m \u001b[38;5;28mself\u001b[39m.obj._reindex_with_indexers(\n\u001b[32m   1362\u001b[39m     {axis: [keyarr, indexer]}, copy=\u001b[38;5;28;01mTrue\u001b[39;00m, allow_dups=\u001b[38;5;28;01mTrue\u001b[39;00m\n\u001b[32m   1363\u001b[39m )\n",
      "\u001b[36mFile \u001b[39m\u001b[32mc:\\Users\\Leonidas Brando\\OneDrive - Universidad Politécnica de Madrid\\2nd half - third year\\bioinspired algorithms for optimization\\project\\portfolio_optimization\\.venv\\Lib\\site-packages\\pandas\\core\\indexing.py:1558\u001b[39m, in \u001b[36m_LocIndexer._get_listlike_indexer\u001b[39m\u001b[34m(self, key, axis)\u001b[39m\n\u001b[32m   1556\u001b[39m axis_name = \u001b[38;5;28mself\u001b[39m.obj._get_axis_name(axis)\n\u001b[32m-> \u001b[39m\u001b[32m1558\u001b[39m keyarr, indexer = \u001b[43max\u001b[49m\u001b[43m.\u001b[49m\u001b[43m_get_indexer_strict\u001b[49m\u001b[43m(\u001b[49m\u001b[43mkey\u001b[49m\u001b[43m,\u001b[49m\u001b[43m \u001b[49m\u001b[43maxis_name\u001b[49m\u001b[43m)\u001b[49m\n\u001b[32m   1560\u001b[39m \u001b[38;5;28;01mreturn\u001b[39;00m keyarr, indexer\n",
      "\u001b[36mFile \u001b[39m\u001b[32mc:\\Users\\Leonidas Brando\\OneDrive - Universidad Politécnica de Madrid\\2nd half - third year\\bioinspired algorithms for optimization\\project\\portfolio_optimization\\.venv\\Lib\\site-packages\\pandas\\core\\indexes\\base.py:6200\u001b[39m, in \u001b[36mIndex._get_indexer_strict\u001b[39m\u001b[34m(self, key, axis_name)\u001b[39m\n\u001b[32m   6198\u001b[39m     keyarr, indexer, new_indexer = \u001b[38;5;28mself\u001b[39m._reindex_non_unique(keyarr)\n\u001b[32m-> \u001b[39m\u001b[32m6200\u001b[39m \u001b[38;5;28;43mself\u001b[39;49m\u001b[43m.\u001b[49m\u001b[43m_raise_if_missing\u001b[49m\u001b[43m(\u001b[49m\u001b[43mkeyarr\u001b[49m\u001b[43m,\u001b[49m\u001b[43m \u001b[49m\u001b[43mindexer\u001b[49m\u001b[43m,\u001b[49m\u001b[43m \u001b[49m\u001b[43maxis_name\u001b[49m\u001b[43m)\u001b[49m\n\u001b[32m   6202\u001b[39m keyarr = \u001b[38;5;28mself\u001b[39m.take(indexer)\n",
      "\u001b[36mFile \u001b[39m\u001b[32mc:\\Users\\Leonidas Brando\\OneDrive - Universidad Politécnica de Madrid\\2nd half - third year\\bioinspired algorithms for optimization\\project\\portfolio_optimization\\.venv\\Lib\\site-packages\\pandas\\core\\indexes\\base.py:6252\u001b[39m, in \u001b[36mIndex._raise_if_missing\u001b[39m\u001b[34m(self, key, indexer, axis_name)\u001b[39m\n\u001b[32m   6251\u001b[39m not_found = \u001b[38;5;28mlist\u001b[39m(ensure_index(key)[missing_mask.nonzero()[\u001b[32m0\u001b[39m]].unique())\n\u001b[32m-> \u001b[39m\u001b[32m6252\u001b[39m \u001b[38;5;28;01mraise\u001b[39;00m \u001b[38;5;167;01mKeyError\u001b[39;00m(\u001b[33mf\u001b[39m\u001b[33m\"\u001b[39m\u001b[38;5;132;01m{\u001b[39;00mnot_found\u001b[38;5;132;01m}\u001b[39;00m\u001b[33m not in index\u001b[39m\u001b[33m\"\u001b[39m)\n",
      "\u001b[31mKeyError\u001b[39m: \"['UTX#'] not in index\"",
      "\nDuring handling of the above exception, another exception occurred:\n",
      "\u001b[31mKeyError\u001b[39m                                  Traceback (most recent call last)",
      "\u001b[36mCell\u001b[39m\u001b[36m \u001b[39m\u001b[32mIn[9]\u001b[39m\u001b[32m, line 10\u001b[39m\n\u001b[32m      7\u001b[39m     \u001b[38;5;28;01mraise\u001b[39;00m \u001b[38;5;167;01mValueError\u001b[39;00m(\u001b[33m\"\u001b[39m\u001b[33mInvalid algorithm type. Choose \u001b[39m\u001b[33m'\u001b[39m\u001b[33mga\u001b[39m\u001b[33m'\u001b[39m\u001b[33m or \u001b[39m\u001b[33m'\u001b[39m\u001b[33mpso\u001b[39m\u001b[33m'\u001b[39m\u001b[33m.\u001b[39m\u001b[33m\"\u001b[39m)\n\u001b[32m      9\u001b[39m \u001b[38;5;66;03m# Run the experiment\u001b[39;00m\n\u001b[32m---> \u001b[39m\u001b[32m10\u001b[39m (results, fitness_history, diversity_history) = \u001b[43mrunner\u001b[49m\u001b[43m(\u001b[49m\n\u001b[32m     11\u001b[39m \u001b[43m    \u001b[49m\u001b[43malgorithm_type\u001b[49m\u001b[43m=\u001b[49m\u001b[43malgorithm_type\u001b[49m\u001b[43m,\u001b[49m\n\u001b[32m     12\u001b[39m \u001b[43m    \u001b[49m\u001b[43mdataset_folder_name\u001b[49m\u001b[43m=\u001b[49m\u001b[43mdataset_folder_name\u001b[49m\u001b[43m,\u001b[49m\n\u001b[32m     13\u001b[39m \u001b[43m    \u001b[49m\u001b[43mnum_companies\u001b[49m\u001b[43m=\u001b[49m\u001b[43mnum_companies\u001b[49m\u001b[43m,\u001b[49m\n\u001b[32m     14\u001b[39m \u001b[43m    \u001b[49m\u001b[43mrisk_free_rate_annual\u001b[49m\u001b[43m=\u001b[49m\u001b[43mrisk_free_rate_annual\u001b[49m\u001b[43m,\u001b[49m\n\u001b[32m     15\u001b[39m \u001b[43m    \u001b[49m\u001b[43mstart_date\u001b[49m\u001b[43m=\u001b[49m\u001b[43mstart_date\u001b[49m\u001b[43m,\u001b[49m\n\u001b[32m     16\u001b[39m \u001b[43m    \u001b[49m\u001b[43mend_date\u001b[49m\u001b[43m=\u001b[49m\u001b[43mend_date\u001b[49m\u001b[43m,\u001b[49m\n\u001b[32m     17\u001b[39m \u001b[43m    \u001b[49m\u001b[43mcorrelation_level\u001b[49m\u001b[43m=\u001b[49m\u001b[43mcorrelation_level\u001b[49m\u001b[43m,\u001b[49m\n\u001b[32m     18\u001b[39m \u001b[43m    \u001b[49m\u001b[43mseed\u001b[49m\u001b[43m=\u001b[49m\u001b[43mseed\u001b[49m\u001b[43m,\u001b[49m\n\u001b[32m     19\u001b[39m \u001b[43m    \u001b[49m\u001b[43mrepair_method\u001b[49m\u001b[43m=\u001b[49m\u001b[43mrepair_method\u001b[49m\u001b[43m,\u001b[49m\n\u001b[32m     20\u001b[39m \u001b[43m    \u001b[49m\u001b[43m*\u001b[49m\u001b[43m*\u001b[49m\u001b[43mparams\u001b[49m\n\u001b[32m     21\u001b[39m \u001b[43m)\u001b[49m\n\u001b[32m     23\u001b[39m \u001b[38;5;66;03m# --- Display Results ---\u001b[39;00m\n\u001b[32m     24\u001b[39m sharpe_ratio, annual_return, weights = results\n",
      "\u001b[36mFile \u001b[39m\u001b[32mc:\\Users\\Leonidas Brando\\OneDrive - Universidad Politécnica de Madrid\\2nd half - third year\\bioinspired algorithms for optimization\\project\\portfolio_optimization\\pop\\runner.py:41\u001b[39m, in \u001b[36mrunner\u001b[39m\u001b[34m(algorithm_type, dataset_folder_name, num_companies, risk_free_rate_annual, start_date, end_date, **kwargs)\u001b[39m\n\u001b[32m     35\u001b[39m solution: Solution = problem.optimize(\n\u001b[32m     36\u001b[39m     algorithm_type,\n\u001b[32m     37\u001b[39m     **kwargs\n\u001b[32m     38\u001b[39m )\n\u001b[32m     40\u001b[39m \u001b[38;5;66;03m# Return fitness and diversity history along with the solution\u001b[39;00m\n\u001b[32m---> \u001b[39m\u001b[32m41\u001b[39m \u001b[38;5;28;01mreturn\u001b[39;00m solution.decode(\u001b[43mdataset_manager\u001b[49m\u001b[43m.\u001b[49m\u001b[43mget_full_companies_names\u001b[49m\u001b[43m(\u001b[49m\u001b[43mmeta\u001b[49m\u001b[43m)\u001b[49m, annual_mean_returns), problem.fitness_history, problem.diversity_history\n",
      "\u001b[36mFile \u001b[39m\u001b[32mc:\\Users\\Leonidas Brando\\OneDrive - Universidad Politécnica de Madrid\\2nd half - third year\\bioinspired algorithms for optimization\\project\\portfolio_optimization\\pop\\dataset\\dataset_manager.py:180\u001b[39m, in \u001b[36mDatasetManager.get_full_companies_names\u001b[39m\u001b[34m(self, symbols)\u001b[39m\n\u001b[32m    178\u001b[39m     \u001b[38;5;28;01mreturn\u001b[39;00m df.loc[symbols, \u001b[33m\"\u001b[39m\u001b[33mSecurity Name\u001b[39m\u001b[33m\"\u001b[39m]\n\u001b[32m    179\u001b[39m \u001b[38;5;28;01mexcept\u001b[39;00m \u001b[38;5;167;01mKeyError\u001b[39;00m \u001b[38;5;28;01mas\u001b[39;00m e:\n\u001b[32m--> \u001b[39m\u001b[32m180\u001b[39m     \u001b[38;5;28;01mraise\u001b[39;00m \u001b[38;5;167;01mKeyError\u001b[39;00m(\u001b[33mf\u001b[39m\u001b[33m\"\u001b[39m\u001b[33mOne or more symbols not found in metadata: \u001b[39m\u001b[38;5;132;01m{\u001b[39;00me\u001b[38;5;132;01m}\u001b[39;00m\u001b[33m\"\u001b[39m)\n",
      "\u001b[31mKeyError\u001b[39m: 'One or more symbols not found in metadata: \"[\\'UTX#\\'] not in index\"'"
     ]
    }
   ],
   "source": [
    "# --- Execute Experiment ---\n",
    "if algorithm_type == \"ga\":\n",
    "    params = ga_params\n",
    "elif algorithm_type == \"pso\":\n",
    "    params = pso_params\n",
    "else:\n",
    "    raise ValueError(\"Invalid algorithm type. Choose 'ga' or 'pso'.\")\n",
    "\n",
    "# Run the experiment\n",
    "(results, fitness_history, diversity_history) = runner(\n",
    "    algorithm_type=algorithm_type,\n",
    "    dataset_folder_name=dataset_folder_name,\n",
    "    num_companies=num_companies,\n",
    "    risk_free_rate_annual=risk_free_rate_annual,\n",
    "    start_date=start_date,\n",
    "    end_date=end_date,\n",
    "    correlation_level=correlation_level,\n",
    "    seed=seed,\n",
    "    repair_method=repair_method,\n",
    "    **params\n",
    ")\n",
    "\n",
    "# --- Display Results ---\n",
    "sharpe_ratio, annual_return, weights = results\n",
    "print_results(sharpe_ratio, annual_return, weights)"
   ]
  },
  {
   "cell_type": "code",
   "execution_count": null,
   "id": "c993d60c",
   "metadata": {},
   "outputs": [],
   "source": [
    "# --- Save Results ---\n",
    "# Prepare file saving\n",
    "params = ga_params if algorithm_type == \"ga\" else pso_params\n",
    "results_dir, filename = prepare_file_saving(\n",
    "    algorithm_type=algorithm_type,\n",
    "    correlation_level=correlation_level,\n",
    "    params=params,\n",
    "    root_path=os.path.join(ROOT_PATH, \"experiments\", \"results\")\n",
    ")\n",
    "\n",
    "# Save results\n",
    "save_results(results_dir, filename, weights, sharpe_ratio, annual_return)"
   ]
  },
  {
   "cell_type": "code",
   "execution_count": null,
   "id": "7856525b",
   "metadata": {},
   "outputs": [],
   "source": [
    "# Save fitness history\n",
    "save_fitness_history(results_dir, filename, fitness_history)"
   ]
  },
  {
   "cell_type": "code",
   "execution_count": null,
   "id": "a2d0c26c",
   "metadata": {},
   "outputs": [],
   "source": [
    "# Save diversity history\n",
    "save_diversity_history(results_dir, filename, diversity_history)"
   ]
  },
  {
   "cell_type": "markdown",
   "id": "a2572c2a",
   "metadata": {},
   "source": [
    "## Visualize fitness evolution"
   ]
  },
  {
   "cell_type": "code",
   "execution_count": null,
   "id": "5cd2a3ca",
   "metadata": {},
   "outputs": [],
   "source": [
    "# ---Plotting Fitness Evolution---\n",
    "plt.figure(figsize=(10, 6))\n",
    "plt.plot(fitness_history, label=\"Fitness Evolution\", color=\"blue\")\n",
    "plt.title(\"Fitness Evolution Over Generations\")\n",
    "plt.xlabel(\"Generations\")\n",
    "plt.ylabel(\"Fitness\")\n",
    "plt.legend()\n",
    "plt.grid()\n",
    "plt.show()"
   ]
  },
  {
   "cell_type": "code",
   "execution_count": null,
   "id": "f118c983",
   "metadata": {},
   "outputs": [],
   "source": [
    "# --- Save Fitness Evolution Plot ---\n",
    "fitness_plot_path = os.path.join(results_dir, f\"{filename}_fitness_evolution.png\")\n",
    "plt.figure(figsize=(10, 6))\n",
    "plt.plot(fitness_history, label=\"Fitness Evolution\", color=\"blue\")\n",
    "plt.title(\"Fitness Evolution Over Generations\")\n",
    "plt.xlabel(\"Generations\")\n",
    "plt.ylabel(\"Fitness\")\n",
    "plt.legend()\n",
    "plt.grid()\n",
    "plt.savefig(fitness_plot_path)\n",
    "plt.clf()\n",
    "print(f\"Fitness evolution plot saved to {fitness_plot_path}\")"
   ]
  },
  {
   "cell_type": "markdown",
   "id": "6f000c54",
   "metadata": {},
   "source": [
    "## Visualize diversity evolution"
   ]
  },
  {
   "cell_type": "code",
   "execution_count": null,
   "id": "6a27e6aa",
   "metadata": {},
   "outputs": [],
   "source": [
    "# --- Plot Diversity Evolution ---\n",
    "plt.figure(figsize=(10, 6))\n",
    "plt.plot(diversity_history, label=\"Diversity Evolution\", color=\"green\")\n",
    "plt.title(\"Diversity Evolution Over Generations\")\n",
    "plt.xlabel(\"Generations\")\n",
    "plt.ylabel(\"Diversity\")\n",
    "plt.legend()\n",
    "plt.grid()\n",
    "plt.show()"
   ]
  },
  {
   "cell_type": "code",
   "execution_count": null,
   "id": "0b297c53",
   "metadata": {},
   "outputs": [],
   "source": [
    "# --- Save Diversity Evolution Plot ---\n",
    "diversity_plot_path = os.path.join(results_dir, f\"{filename}_diversity_evolution.png\")\n",
    "plt.figure(figsize=(10, 6))\n",
    "plt.plot(diversity_history, label=\"Diversity Evolution\", color=\"green\")\n",
    "plt.title(\"Diversity Evolution Over Generations\")\n",
    "plt.xlabel(\"Generations\")\n",
    "plt.ylabel(\"Diversity\")\n",
    "plt.legend()\n",
    "plt.grid()\n",
    "plt.savefig(diversity_plot_path)\n",
    "plt.clf()\n",
    "print(f\"Diversity evolution plot saved to {diversity_plot_path}\")"
   ]
  }
 ],
 "metadata": {
  "kernelspec": {
   "display_name": ".venv",
   "language": "python",
   "name": "python3"
  },
  "language_info": {
   "codemirror_mode": {
    "name": "ipython",
    "version": 3
   },
   "file_extension": ".py",
   "mimetype": "text/x-python",
   "name": "python",
   "nbconvert_exporter": "python",
   "pygments_lexer": "ipython3",
   "version": "3.12.0"
  }
 },
 "nbformat": 4,
 "nbformat_minor": 5
}
