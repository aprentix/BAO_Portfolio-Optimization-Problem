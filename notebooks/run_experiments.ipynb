{
 "cells": [
  {
   "cell_type": "markdown",
   "id": "93e69f65",
   "metadata": {},
   "source": [
    "# Genetic Algorithm Portfolio Optimization"
   ]
  },
  {
   "cell_type": "markdown",
   "id": "303ac956",
   "metadata": {},
   "source": [
    "## Dependencies Set-up"
   ]
  },
  {
   "cell_type": "code",
   "execution_count": null,
   "id": "ae67c4e0",
   "metadata": {},
   "outputs": [],
   "source": [
    "# --- Import Required Libraries ---\n",
    "import os\n",
    "import sys\n",
    "import matplotlib.pyplot as plt\n",
    "\n",
    "# --- Set Up Paths ---\n",
    "ROOT_PATH = os.path.abspath(os.path.join(os.getcwd(), '..'))\n",
    "if ROOT_PATH not in sys.path:\n",
    "    sys.path.insert(0, ROOT_PATH)\n",
    "    \n",
    "# --- Import Custom Libraries ---\n",
    "from pop.runner import runner\n",
    "from pop.util.print_results import print_results\n",
    "from pop.util.file_saver import save_results, save_fitness_history, save_diversity_history"
   ]
  },
  {
   "cell_type": "markdown",
   "id": "0db02cc4",
   "metadata": {},
   "source": [
    "## Parameters Definition"
   ]
  },
  {
   "cell_type": "code",
   "execution_count": null,
   "id": "94b922ef",
   "metadata": {},
   "outputs": [],
   "source": [
    "# --- Define Experiment Parameters ---\n",
    "# Algorithm type: 'ga' (Genetic Algorithm) or 'pso' (Particle Swarm Optimization)\n",
    "algorithm_type = \"ga\"\n",
    "\n",
    "# Dataset folder name\n",
    "dataset_folder_name = \"../dataset\"\n",
    "\n",
    "# Number of companies to include in the portfolio\n",
    "num_companies = 50\n",
    "\n",
    "# Annual risk-free rate\n",
    "risk_free_rate_annual = 0.042\n",
    "\n",
    "# Analysis period\n",
    "start_date = \"2015-01-01\"\n",
    "end_date = \"2020-01-01\"\n",
    "\n",
    "# Correlation level (optional): 'low', 'medium', 'high', or None\n",
    "correlation_level = None\n",
    "\n",
    "# Random seed for reproducibility\n",
    "seed = 0"
   ]
  },
  {
   "cell_type": "markdown",
   "id": "02a338e0",
   "metadata": {},
   "source": [
    "## Hyperparameter & Model Configuration"
   ]
  },
  {
   "cell_type": "code",
   "execution_count": null,
   "id": "23ca7909",
   "metadata": {},
   "outputs": [],
   "source": [
    "# --- Algorithm-Specific Parameters ---\n",
    "# GA Parameters\n",
    "ga_params = {\n",
    "    \"pop_size\": 100,\n",
    "    \"max_generations\": 300,\n",
    "    \"mutation_rate\": 0.1,\n",
    "    \"gaussian_stdev\": 0.1,\n",
    "    \"num_elites\": 1,\n",
    "    \"tournament_size\": 3,\n",
    "}\n",
    "\n",
    "# PSO Parameters\n",
    "pso_params = {\n",
    "    \"swarm_size\": 100,\n",
    "    \"max_iterations\": 300,\n",
    "    \"w\": 0.5,\n",
    "    \"c1\": 1.5,\n",
    "    \"c2\": 2.0,\n",
    "}\n",
    "\n",
    "# Repair method for constraint handling: 'normalize', 'clip', 'restart', 'shrink'\n",
    "repair_method = \"normalize\""
   ]
  },
  {
   "cell_type": "markdown",
   "id": "51fc50c2",
   "metadata": {},
   "source": [
    "## Experiment Execution"
   ]
  },
  {
   "cell_type": "code",
   "execution_count": null,
   "id": "642f0dc5",
   "metadata": {},
   "outputs": [],
   "source": [
    "# --- Execute Experiment ---\n",
    "if algorithm_type == \"ga\":\n",
    "    params = ga_params\n",
    "elif algorithm_type == \"pso\":\n",
    "    params = pso_params\n",
    "else:\n",
    "    raise ValueError(\"Invalid algorithm type. Choose 'ga' or 'pso'.\")\n",
    "\n",
    "# Run the experiment\n",
    "(results, fitness_history, diversity_history) = runner(\n",
    "    algorithm_type=algorithm_type,\n",
    "    dataset_folder_name=dataset_folder_name,\n",
    "    num_companies=num_companies,\n",
    "    risk_free_rate_annual=risk_free_rate_annual,\n",
    "    start_date=start_date,\n",
    "    end_date=end_date,\n",
    "    correlation_level=correlation_level,\n",
    "    seed=seed,\n",
    "    repair_method=repair_method,\n",
    "    **params\n",
    ")\n",
    "\n",
    "# --- Display Results ---\n",
    "sharpe_ratio, annual_return, weights = results\n",
    "print_results(sharpe_ratio, annual_return, weights)"
   ]
  },
  {
   "cell_type": "code",
   "execution_count": null,
   "id": "c993d60c",
   "metadata": {},
   "outputs": [],
   "source": [
    "# --- Save Results ---\n",
    "# Simplify correlation level\n",
    "correlation_str = {\n",
    "    \"low\": \"L\",\n",
    "    \"medium\": \"M\",\n",
    "    \"high\": \"H\",\n",
    "    None: \"N\"\n",
    "}.get(correlation_level, \"N\")\n",
    "\n",
    "# Simplify parameter string\n",
    "if algorithm_type == \"ga\":\n",
    "    algo_folder = \"ga\"\n",
    "    param_str = f\"ps-{ga_params['pop_size']}_mg-{ga_params['max_generations']}_mr-{ga_params['mutation_rate']}\"\n",
    "elif algorithm_type == \"pso\":\n",
    "    algo_folder = \"pso\"\n",
    "    param_str = f\"ss-{pso_params['swarm_size']}_mi-{pso_params['max_iterations']}_w-{pso_params['w']}\"\n",
    "\n",
    "# Define the results directory relative to the project root\n",
    "results_dir = os.path.join(ROOT_PATH, \"experiments\", \"results\", algo_folder)\n",
    "filename = f\"exp_{correlation_str}_{param_str}\"\n",
    "\n",
    "# Save results\n",
    "save_results(results_dir, filename, weights, sharpe_ratio, annual_return)"
   ]
  },
  {
   "cell_type": "code",
   "execution_count": null,
   "id": "7856525b",
   "metadata": {},
   "outputs": [],
   "source": [
    "# Save fitness history\n",
    "save_fitness_history(results_dir, filename, fitness_history)\n",
    "\n",
    "# Save diversity history\n",
    "save_diversity_history(results_dir, filename, diversity_history)"
   ]
  },
  {
   "cell_type": "markdown",
   "id": "a2572c2a",
   "metadata": {},
   "source": [
    "## Visualize fitness evolution"
   ]
  },
  {
   "cell_type": "code",
   "execution_count": null,
   "id": "5cd2a3ca",
   "metadata": {},
   "outputs": [],
   "source": [
    "# ---Plotting Fitness Evolution---\n",
    "plt.figure(figsize=(10, 6))\n",
    "plt.plot(fitness_history, label=\"Fitness Evolution\", color=\"blue\")\n",
    "plt.title(\"Fitness Evolution Over Generations\")\n",
    "plt.xlabel(\"Generations\")\n",
    "plt.ylabel(\"Fitness\")\n",
    "plt.legend()\n",
    "plt.grid()\n",
    "plt.show()"
   ]
  },
  {
   "cell_type": "code",
   "execution_count": null,
   "id": "f118c983",
   "metadata": {},
   "outputs": [],
   "source": [
    "# --- Save Fitness Evolution Plot ---\n",
    "fitness_plot_path = os.path.join(results_dir, f\"{filename}_fitness_evolution.png\")\n",
    "plt.figure(figsize=(10, 6))\n",
    "plt.plot(fitness_history, label=\"Fitness Evolution\", color=\"blue\")\n",
    "plt.title(\"Fitness Evolution Over Generations\")\n",
    "plt.xlabel(\"Generations\")\n",
    "plt.ylabel(\"Fitness\")\n",
    "plt.legend()\n",
    "plt.grid()\n",
    "plt.savefig(fitness_plot_path)\n",
    "plt.clf()\n",
    "print(f\"Fitness evolution plot saved to {fitness_plot_path}\")"
   ]
  },
  {
   "cell_type": "markdown",
   "id": "6f000c54",
   "metadata": {},
   "source": [
    "## Visualize diversity evolution"
   ]
  },
  {
   "cell_type": "code",
   "execution_count": null,
   "id": "6a27e6aa",
   "metadata": {},
   "outputs": [],
   "source": [
    "# --- Plot Diversity Evolution ---\n",
    "plt.figure(figsize=(10, 6))\n",
    "plt.plot(diversity_history, label=\"Diversity Evolution\", color=\"green\")\n",
    "plt.title(\"Diversity Evolution Over Generations\")\n",
    "plt.xlabel(\"Generations\")\n",
    "plt.ylabel(\"Diversity\")\n",
    "plt.legend()\n",
    "plt.grid()\n",
    "plt.show()"
   ]
  },
  {
   "cell_type": "code",
   "execution_count": null,
   "id": "0b297c53",
   "metadata": {},
   "outputs": [],
   "source": [
    "# --- Save Diversity Evolution Plot ---\n",
    "diversity_plot_path = os.path.join(results_dir, f\"{filename}_diversity_evolution.png\")\n",
    "plt.figure(figsize=(10, 6))\n",
    "plt.plot(diversity_history, label=\"Diversity Evolution\", color=\"green\")\n",
    "plt.title(\"Diversity Evolution Over Generations\")\n",
    "plt.xlabel(\"Generations\")\n",
    "plt.ylabel(\"Diversity\")\n",
    "plt.legend()\n",
    "plt.grid()\n",
    "plt.savefig(diversity_plot_path)\n",
    "plt.clf()\n",
    "print(f\"Diversity evolution plot saved to {diversity_plot_path}\")"
   ]
  }
 ],
 "metadata": {
  "kernelspec": {
   "display_name": ".venv",
   "language": "python",
   "name": "python3"
  },
  "language_info": {
   "codemirror_mode": {
    "name": "ipython",
    "version": 3
   },
   "file_extension": ".py",
   "mimetype": "text/x-python",
   "name": "python",
   "nbconvert_exporter": "python",
   "pygments_lexer": "ipython3",
   "version": "3.12.0"
  }
 },
 "nbformat": 4,
 "nbformat_minor": 5
}
