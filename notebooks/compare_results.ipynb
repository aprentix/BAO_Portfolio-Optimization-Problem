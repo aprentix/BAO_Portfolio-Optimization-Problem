{
 "cells": [
  {
   "cell_type": "markdown",
   "id": "d9ee3d44",
   "metadata": {},
   "source": [
    "# GA & PSO Comparison"
   ]
  },
  {
   "cell_type": "code",
   "execution_count": null,
   "id": "2222d8f9",
   "metadata": {},
   "outputs": [],
   "source": [
    "# --- Import Required Libraries ---\n",
    "import os, sys\n",
    "import pandas as pd\n",
    "\n",
    "# --- Set Up Paths ---\n",
    "ROOT_PATH = os.path.abspath(os.path.join(os.getcwd(), '..'))\n",
    "if ROOT_PATH not in sys.path:\n",
    "    sys.path.insert(0, ROOT_PATH)\n",
    "\n",
    "# --- Import Custom Libraries ---\n",
    "from pop.util.print_results import (box_plot, bar_plot, scatter_plot, plot_best_configs_across_correlation)\n",
    "from pop.util.compare_results import perform_statistical_tests"
   ]
  },
  {
   "cell_type": "markdown",
   "id": "4b76a048",
   "metadata": {},
   "source": [
    "## Algorithm Comparison"
   ]
  },
  {
   "cell_type": "code",
   "execution_count": null,
   "id": "7ec35da2",
   "metadata": {},
   "outputs": [],
   "source": [
    "# Define correlation levels and their corresponding file paths\n",
    "correlation_levels = {\n",
    "    \"none\": os.path.join(ROOT_PATH, \"experiments\", \"results\", \"none_correlation\", \"final_fine_tuning_results.csv\"),\n",
    "    \"low\": os.path.join(ROOT_PATH, \"experiments\", \"results\", \"low_correlation\", \"final_fine_tuning_results.csv\"),\n",
    "    \"medium\": os.path.join(ROOT_PATH, \"experiments\", \"results\", \"medium_correlation\", \"final_fine_tuning_results.csv\"),\n",
    "    \"high\": os.path.join(ROOT_PATH, \"experiments\", \"results\", \"high_correlation\", \"final_fine_tuning_results.csv\"),\n",
    "}\n",
    "\n",
    "# Set the alpha value for statistical tests\n",
    "alpha = 0.05\n",
    "\n",
    "# Loop through each correlation level\n",
    "for corr_level, file_path in correlation_levels.items():\n",
    "    print(f\"\\n{'='*20}\\nCorrelation Level: {corr_level.upper()}\\n{'='*20}\")\n",
    "    data = pd.read_csv(file_path)\n",
    "    for quality in [\"best\", \"median\", \"worst\"]:\n",
    "        ga_data = data[(data[\"algorithm\"] == \"GA\") & (data[\"quality\"] == quality)]\n",
    "        pso_data = data[(data[\"algorithm\"] == \"PSO\") & (data[\"quality\"] == quality)]\n",
    "        perform_statistical_tests(ga_data, pso_data, \"sharpe_ratio\", f\"Sharpe Ratio ({quality})\", alpha)\n",
    "        perform_statistical_tests(ga_data, pso_data, \"annual_return\", f\"Annual Return ({quality})\", alpha)\n",
    "        perform_statistical_tests(ga_data, pso_data, \"runtime\", f\"Execution Time ({quality})\", alpha)\n",
    "\n",
    "# Visualization: Sharpe Ratio Comparison (Best, Median, Worst)\n",
    "bar_plot(data, \"mean_sharpe\", \"Mean Sharpe Ratios (GA vs PSO)\", \"Mean Sharpe Ratio\")\n",
    "\n",
    "# Visualization: Return Distribution (Best, Median, Worst)\n",
    "box_plot(data, \"annual_return\", \"Annual Return Distributions (GA vs PSO)\", \"Annual Return\")\n",
    "\n",
    "# Visualization: Execution Time Comparison (Best, Median, Worst)\n",
    "bar_plot(data, \"runtime\", \"Execution Time (GA vs PSO)\", \"Runtime (seconds)\")\n",
    "\n",
    "# Visualization: Tradeoff Analysis (Sharpe Ratio vs. Time)\n",
    "scatter_plot(data, \"runtime\", \"sharpe_ratio\", \"Sharpe Ratio vs. Execution Time (GA vs PSO)\", \"Execution Time (seconds)\", \"Sharpe Ratio\")\n",
    "\n",
    "# Best Configuration Comparison (Sharpe Ratio vs Annual Return)\n",
    "best_data = data[data[\"quality\"] == \"best\"]\n",
    "scatter_plot(best_data, \"sharpe_ratio\", \"annual_return\", \"Best Configuration Comparison (GA vs PSO)\", \"Sharpe Ratio\", \"Annual Return\")\n",
    "\n",
    "print(\"✅ All statistical tests and visualizations completed.\")"
   ]
  },
  {
   "cell_type": "code",
   "execution_count": null,
   "id": "7294cacc",
   "metadata": {},
   "outputs": [],
   "source": [
    "# Plot best configurations across correlation levels\n",
    "plot_best_configs_across_correlation(correlation_levels)"
   ]
  }
 ],
 "metadata": {
  "kernelspec": {
   "display_name": ".venv",
   "language": "python",
   "name": "python3"
  },
  "language_info": {
   "codemirror_mode": {
    "name": "ipython",
    "version": 3
   },
   "file_extension": ".py",
   "mimetype": "text/x-python",
   "name": "python",
   "nbconvert_exporter": "python",
   "pygments_lexer": "ipython3",
   "version": "3.12.0"
  }
 },
 "nbformat": 4,
 "nbformat_minor": 5
}
