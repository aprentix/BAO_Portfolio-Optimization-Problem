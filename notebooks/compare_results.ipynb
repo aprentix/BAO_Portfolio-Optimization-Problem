{
 "cells": [
  {
   "cell_type": "markdown",
   "id": "d9ee3d44",
   "metadata": {},
   "source": [
    "# GA & PSO Comparison"
   ]
  },
  {
   "cell_type": "code",
   "execution_count": 12,
   "id": "2222d8f9",
   "metadata": {},
   "outputs": [],
   "source": [
    "import pandas as pd\n",
    "from scipy.stats import wilcoxon\n",
    "import matplotlib.pyplot as plt\n",
    "import seaborn as sns\n",
    "sns.set_theme(style=\"whitegrid\")"
   ]
  },
  {
   "cell_type": "markdown",
   "id": "e163c5c2",
   "metadata": {},
   "source": [
    "## Load GA & PSO Results"
   ]
  },
  {
   "cell_type": "code",
   "execution_count": 13,
   "id": "85b7759a",
   "metadata": {},
   "outputs": [
    {
     "ename": "PermissionError",
     "evalue": "[Errno 13] Permission denied: 'experiments/results/ga/'",
     "output_type": "error",
     "traceback": [
      "\u001b[31m---------------------------------------------------------------------------\u001b[39m",
      "\u001b[31mPermissionError\u001b[39m                           Traceback (most recent call last)",
      "\u001b[36mCell\u001b[39m\u001b[36m \u001b[39m\u001b[32mIn[13]\u001b[39m\u001b[32m, line 6\u001b[39m\n\u001b[32m      3\u001b[39m PSO_RESULTS_PATH = \u001b[33m\"\u001b[39m\u001b[33mexperiments/results/pso/\u001b[39m\u001b[33m\"\u001b[39m\n\u001b[32m      5\u001b[39m \u001b[38;5;66;03m# Load results\u001b[39;00m\n\u001b[32m----> \u001b[39m\u001b[32m6\u001b[39m ga_results = \u001b[43mpd\u001b[49m\u001b[43m.\u001b[49m\u001b[43mread_csv\u001b[49m\u001b[43m(\u001b[49m\u001b[43mGA_RESULTS_PATH\u001b[49m\u001b[43m)\u001b[49m\n\u001b[32m      7\u001b[39m pso_results = pd.read_csv(PSO_RESULTS_PATH)\n\u001b[32m      9\u001b[39m \u001b[38;5;66;03m# Add algorithm labels\u001b[39;00m\n",
      "\u001b[36mFile \u001b[39m\u001b[32mc:\\Users\\lara\\BAO_Portfolio-Optimization-Problem\\.venv\\Lib\\site-packages\\pandas\\io\\parsers\\readers.py:1026\u001b[39m, in \u001b[36mread_csv\u001b[39m\u001b[34m(filepath_or_buffer, sep, delimiter, header, names, index_col, usecols, dtype, engine, converters, true_values, false_values, skipinitialspace, skiprows, skipfooter, nrows, na_values, keep_default_na, na_filter, verbose, skip_blank_lines, parse_dates, infer_datetime_format, keep_date_col, date_parser, date_format, dayfirst, cache_dates, iterator, chunksize, compression, thousands, decimal, lineterminator, quotechar, quoting, doublequote, escapechar, comment, encoding, encoding_errors, dialect, on_bad_lines, delim_whitespace, low_memory, memory_map, float_precision, storage_options, dtype_backend)\u001b[39m\n\u001b[32m   1013\u001b[39m kwds_defaults = _refine_defaults_read(\n\u001b[32m   1014\u001b[39m     dialect,\n\u001b[32m   1015\u001b[39m     delimiter,\n\u001b[32m   (...)\u001b[39m\u001b[32m   1022\u001b[39m     dtype_backend=dtype_backend,\n\u001b[32m   1023\u001b[39m )\n\u001b[32m   1024\u001b[39m kwds.update(kwds_defaults)\n\u001b[32m-> \u001b[39m\u001b[32m1026\u001b[39m \u001b[38;5;28;01mreturn\u001b[39;00m \u001b[43m_read\u001b[49m\u001b[43m(\u001b[49m\u001b[43mfilepath_or_buffer\u001b[49m\u001b[43m,\u001b[49m\u001b[43m \u001b[49m\u001b[43mkwds\u001b[49m\u001b[43m)\u001b[49m\n",
      "\u001b[36mFile \u001b[39m\u001b[32mc:\\Users\\lara\\BAO_Portfolio-Optimization-Problem\\.venv\\Lib\\site-packages\\pandas\\io\\parsers\\readers.py:620\u001b[39m, in \u001b[36m_read\u001b[39m\u001b[34m(filepath_or_buffer, kwds)\u001b[39m\n\u001b[32m    617\u001b[39m _validate_names(kwds.get(\u001b[33m\"\u001b[39m\u001b[33mnames\u001b[39m\u001b[33m\"\u001b[39m, \u001b[38;5;28;01mNone\u001b[39;00m))\n\u001b[32m    619\u001b[39m \u001b[38;5;66;03m# Create the parser.\u001b[39;00m\n\u001b[32m--> \u001b[39m\u001b[32m620\u001b[39m parser = \u001b[43mTextFileReader\u001b[49m\u001b[43m(\u001b[49m\u001b[43mfilepath_or_buffer\u001b[49m\u001b[43m,\u001b[49m\u001b[43m \u001b[49m\u001b[43m*\u001b[49m\u001b[43m*\u001b[49m\u001b[43mkwds\u001b[49m\u001b[43m)\u001b[49m\n\u001b[32m    622\u001b[39m \u001b[38;5;28;01mif\u001b[39;00m chunksize \u001b[38;5;129;01mor\u001b[39;00m iterator:\n\u001b[32m    623\u001b[39m     \u001b[38;5;28;01mreturn\u001b[39;00m parser\n",
      "\u001b[36mFile \u001b[39m\u001b[32mc:\\Users\\lara\\BAO_Portfolio-Optimization-Problem\\.venv\\Lib\\site-packages\\pandas\\io\\parsers\\readers.py:1620\u001b[39m, in \u001b[36mTextFileReader.__init__\u001b[39m\u001b[34m(self, f, engine, **kwds)\u001b[39m\n\u001b[32m   1617\u001b[39m     \u001b[38;5;28mself\u001b[39m.options[\u001b[33m\"\u001b[39m\u001b[33mhas_index_names\u001b[39m\u001b[33m\"\u001b[39m] = kwds[\u001b[33m\"\u001b[39m\u001b[33mhas_index_names\u001b[39m\u001b[33m\"\u001b[39m]\n\u001b[32m   1619\u001b[39m \u001b[38;5;28mself\u001b[39m.handles: IOHandles | \u001b[38;5;28;01mNone\u001b[39;00m = \u001b[38;5;28;01mNone\u001b[39;00m\n\u001b[32m-> \u001b[39m\u001b[32m1620\u001b[39m \u001b[38;5;28mself\u001b[39m._engine = \u001b[38;5;28;43mself\u001b[39;49m\u001b[43m.\u001b[49m\u001b[43m_make_engine\u001b[49m\u001b[43m(\u001b[49m\u001b[43mf\u001b[49m\u001b[43m,\u001b[49m\u001b[43m \u001b[49m\u001b[38;5;28;43mself\u001b[39;49m\u001b[43m.\u001b[49m\u001b[43mengine\u001b[49m\u001b[43m)\u001b[49m\n",
      "\u001b[36mFile \u001b[39m\u001b[32mc:\\Users\\lara\\BAO_Portfolio-Optimization-Problem\\.venv\\Lib\\site-packages\\pandas\\io\\parsers\\readers.py:1880\u001b[39m, in \u001b[36mTextFileReader._make_engine\u001b[39m\u001b[34m(self, f, engine)\u001b[39m\n\u001b[32m   1878\u001b[39m     \u001b[38;5;28;01mif\u001b[39;00m \u001b[33m\"\u001b[39m\u001b[33mb\u001b[39m\u001b[33m\"\u001b[39m \u001b[38;5;129;01mnot\u001b[39;00m \u001b[38;5;129;01min\u001b[39;00m mode:\n\u001b[32m   1879\u001b[39m         mode += \u001b[33m\"\u001b[39m\u001b[33mb\u001b[39m\u001b[33m\"\u001b[39m\n\u001b[32m-> \u001b[39m\u001b[32m1880\u001b[39m \u001b[38;5;28mself\u001b[39m.handles = \u001b[43mget_handle\u001b[49m\u001b[43m(\u001b[49m\n\u001b[32m   1881\u001b[39m \u001b[43m    \u001b[49m\u001b[43mf\u001b[49m\u001b[43m,\u001b[49m\n\u001b[32m   1882\u001b[39m \u001b[43m    \u001b[49m\u001b[43mmode\u001b[49m\u001b[43m,\u001b[49m\n\u001b[32m   1883\u001b[39m \u001b[43m    \u001b[49m\u001b[43mencoding\u001b[49m\u001b[43m=\u001b[49m\u001b[38;5;28;43mself\u001b[39;49m\u001b[43m.\u001b[49m\u001b[43moptions\u001b[49m\u001b[43m.\u001b[49m\u001b[43mget\u001b[49m\u001b[43m(\u001b[49m\u001b[33;43m\"\u001b[39;49m\u001b[33;43mencoding\u001b[39;49m\u001b[33;43m\"\u001b[39;49m\u001b[43m,\u001b[49m\u001b[43m \u001b[49m\u001b[38;5;28;43;01mNone\u001b[39;49;00m\u001b[43m)\u001b[49m\u001b[43m,\u001b[49m\n\u001b[32m   1884\u001b[39m \u001b[43m    \u001b[49m\u001b[43mcompression\u001b[49m\u001b[43m=\u001b[49m\u001b[38;5;28;43mself\u001b[39;49m\u001b[43m.\u001b[49m\u001b[43moptions\u001b[49m\u001b[43m.\u001b[49m\u001b[43mget\u001b[49m\u001b[43m(\u001b[49m\u001b[33;43m\"\u001b[39;49m\u001b[33;43mcompression\u001b[39;49m\u001b[33;43m\"\u001b[39;49m\u001b[43m,\u001b[49m\u001b[43m \u001b[49m\u001b[38;5;28;43;01mNone\u001b[39;49;00m\u001b[43m)\u001b[49m\u001b[43m,\u001b[49m\n\u001b[32m   1885\u001b[39m \u001b[43m    \u001b[49m\u001b[43mmemory_map\u001b[49m\u001b[43m=\u001b[49m\u001b[38;5;28;43mself\u001b[39;49m\u001b[43m.\u001b[49m\u001b[43moptions\u001b[49m\u001b[43m.\u001b[49m\u001b[43mget\u001b[49m\u001b[43m(\u001b[49m\u001b[33;43m\"\u001b[39;49m\u001b[33;43mmemory_map\u001b[39;49m\u001b[33;43m\"\u001b[39;49m\u001b[43m,\u001b[49m\u001b[43m \u001b[49m\u001b[38;5;28;43;01mFalse\u001b[39;49;00m\u001b[43m)\u001b[49m\u001b[43m,\u001b[49m\n\u001b[32m   1886\u001b[39m \u001b[43m    \u001b[49m\u001b[43mis_text\u001b[49m\u001b[43m=\u001b[49m\u001b[43mis_text\u001b[49m\u001b[43m,\u001b[49m\n\u001b[32m   1887\u001b[39m \u001b[43m    \u001b[49m\u001b[43merrors\u001b[49m\u001b[43m=\u001b[49m\u001b[38;5;28;43mself\u001b[39;49m\u001b[43m.\u001b[49m\u001b[43moptions\u001b[49m\u001b[43m.\u001b[49m\u001b[43mget\u001b[49m\u001b[43m(\u001b[49m\u001b[33;43m\"\u001b[39;49m\u001b[33;43mencoding_errors\u001b[39;49m\u001b[33;43m\"\u001b[39;49m\u001b[43m,\u001b[49m\u001b[43m \u001b[49m\u001b[33;43m\"\u001b[39;49m\u001b[33;43mstrict\u001b[39;49m\u001b[33;43m\"\u001b[39;49m\u001b[43m)\u001b[49m\u001b[43m,\u001b[49m\n\u001b[32m   1888\u001b[39m \u001b[43m    \u001b[49m\u001b[43mstorage_options\u001b[49m\u001b[43m=\u001b[49m\u001b[38;5;28;43mself\u001b[39;49m\u001b[43m.\u001b[49m\u001b[43moptions\u001b[49m\u001b[43m.\u001b[49m\u001b[43mget\u001b[49m\u001b[43m(\u001b[49m\u001b[33;43m\"\u001b[39;49m\u001b[33;43mstorage_options\u001b[39;49m\u001b[33;43m\"\u001b[39;49m\u001b[43m,\u001b[49m\u001b[43m \u001b[49m\u001b[38;5;28;43;01mNone\u001b[39;49;00m\u001b[43m)\u001b[49m\u001b[43m,\u001b[49m\n\u001b[32m   1889\u001b[39m \u001b[43m\u001b[49m\u001b[43m)\u001b[49m\n\u001b[32m   1890\u001b[39m \u001b[38;5;28;01massert\u001b[39;00m \u001b[38;5;28mself\u001b[39m.handles \u001b[38;5;129;01mis\u001b[39;00m \u001b[38;5;129;01mnot\u001b[39;00m \u001b[38;5;28;01mNone\u001b[39;00m\n\u001b[32m   1891\u001b[39m f = \u001b[38;5;28mself\u001b[39m.handles.handle\n",
      "\u001b[36mFile \u001b[39m\u001b[32mc:\\Users\\lara\\BAO_Portfolio-Optimization-Problem\\.venv\\Lib\\site-packages\\pandas\\io\\common.py:873\u001b[39m, in \u001b[36mget_handle\u001b[39m\u001b[34m(path_or_buf, mode, encoding, compression, memory_map, is_text, errors, storage_options)\u001b[39m\n\u001b[32m    868\u001b[39m \u001b[38;5;28;01melif\u001b[39;00m \u001b[38;5;28misinstance\u001b[39m(handle, \u001b[38;5;28mstr\u001b[39m):\n\u001b[32m    869\u001b[39m     \u001b[38;5;66;03m# Check whether the filename is to be opened in binary mode.\u001b[39;00m\n\u001b[32m    870\u001b[39m     \u001b[38;5;66;03m# Binary mode does not support 'encoding' and 'newline'.\u001b[39;00m\n\u001b[32m    871\u001b[39m     \u001b[38;5;28;01mif\u001b[39;00m ioargs.encoding \u001b[38;5;129;01mand\u001b[39;00m \u001b[33m\"\u001b[39m\u001b[33mb\u001b[39m\u001b[33m\"\u001b[39m \u001b[38;5;129;01mnot\u001b[39;00m \u001b[38;5;129;01min\u001b[39;00m ioargs.mode:\n\u001b[32m    872\u001b[39m         \u001b[38;5;66;03m# Encoding\u001b[39;00m\n\u001b[32m--> \u001b[39m\u001b[32m873\u001b[39m         handle = \u001b[38;5;28;43mopen\u001b[39;49m\u001b[43m(\u001b[49m\n\u001b[32m    874\u001b[39m \u001b[43m            \u001b[49m\u001b[43mhandle\u001b[49m\u001b[43m,\u001b[49m\n\u001b[32m    875\u001b[39m \u001b[43m            \u001b[49m\u001b[43mioargs\u001b[49m\u001b[43m.\u001b[49m\u001b[43mmode\u001b[49m\u001b[43m,\u001b[49m\n\u001b[32m    876\u001b[39m \u001b[43m            \u001b[49m\u001b[43mencoding\u001b[49m\u001b[43m=\u001b[49m\u001b[43mioargs\u001b[49m\u001b[43m.\u001b[49m\u001b[43mencoding\u001b[49m\u001b[43m,\u001b[49m\n\u001b[32m    877\u001b[39m \u001b[43m            \u001b[49m\u001b[43merrors\u001b[49m\u001b[43m=\u001b[49m\u001b[43merrors\u001b[49m\u001b[43m,\u001b[49m\n\u001b[32m    878\u001b[39m \u001b[43m            \u001b[49m\u001b[43mnewline\u001b[49m\u001b[43m=\u001b[49m\u001b[33;43m\"\u001b[39;49m\u001b[33;43m\"\u001b[39;49m\u001b[43m,\u001b[49m\n\u001b[32m    879\u001b[39m \u001b[43m        \u001b[49m\u001b[43m)\u001b[49m\n\u001b[32m    880\u001b[39m     \u001b[38;5;28;01melse\u001b[39;00m:\n\u001b[32m    881\u001b[39m         \u001b[38;5;66;03m# Binary mode\u001b[39;00m\n\u001b[32m    882\u001b[39m         handle = \u001b[38;5;28mopen\u001b[39m(handle, ioargs.mode)\n",
      "\u001b[31mPermissionError\u001b[39m: [Errno 13] Permission denied: 'experiments/results/ga/'"
     ]
    }
   ],
   "source": [
    "# Paths to results\n",
    "GA_RESULTS_PATH = \"experiments/results/ga/\"\n",
    "PSO_RESULTS_PATH = \"experiments/results/pso/\"\n",
    "\n",
    "# Load results\n",
    "ga_results = pd.read_csv(GA_RESULTS_PATH)\n",
    "pso_results = pd.read_csv(PSO_RESULTS_PATH)\n",
    "\n",
    "# Add algorithm labels\n",
    "ga_results[\"algorithm\"] = \"GA\"\n",
    "pso_results[\"algorithm\"] = \"PSO\"\n",
    "\n",
    "# Combine results\n",
    "combined_results = pd.concat([ga_results, pso_results], ignore_index=True)"
   ]
  },
  {
   "cell_type": "markdown",
   "id": "440edd14",
   "metadata": {},
   "source": [
    "## Plot Boxplots for Fitness & Evaluations"
   ]
  },
  {
   "cell_type": "code",
   "execution_count": 14,
   "id": "82a3de3b",
   "metadata": {},
   "outputs": [
    {
     "ename": "NameError",
     "evalue": "name 'combined_results' is not defined",
     "output_type": "error",
     "traceback": [
      "\u001b[31m---------------------------------------------------------------------------\u001b[39m",
      "\u001b[31mNameError\u001b[39m                                 Traceback (most recent call last)",
      "\u001b[36mCell\u001b[39m\u001b[36m \u001b[39m\u001b[32mIn[14]\u001b[39m\u001b[32m, line 3\u001b[39m\n\u001b[32m      1\u001b[39m \u001b[38;5;66;03m# Plot fitness boxplots\u001b[39;00m\n\u001b[32m      2\u001b[39m plt.figure(figsize=(\u001b[32m12\u001b[39m, \u001b[32m8\u001b[39m))\n\u001b[32m----> \u001b[39m\u001b[32m3\u001b[39m sns.boxplot(x=\u001b[33m\"\u001b[39m\u001b[33mnum_companies\u001b[39m\u001b[33m\"\u001b[39m, y=\u001b[33m\"\u001b[39m\u001b[33msharpe_ratio\u001b[39m\u001b[33m\"\u001b[39m, hue=\u001b[33m\"\u001b[39m\u001b[33malgorithm\u001b[39m\u001b[33m\"\u001b[39m, data=\u001b[43mcombined_results\u001b[49m, palette={\u001b[33m\"\u001b[39m\u001b[33mGA\u001b[39m\u001b[33m\"\u001b[39m: \u001b[33m\"\u001b[39m\u001b[33mblue\u001b[39m\u001b[33m\"\u001b[39m, \u001b[33m\"\u001b[39m\u001b[33mPSO\u001b[39m\u001b[33m\"\u001b[39m: \u001b[33m\"\u001b[39m\u001b[33morange\u001b[39m\u001b[33m\"\u001b[39m})\n\u001b[32m      4\u001b[39m plt.title(\u001b[33m\"\u001b[39m\u001b[33mFitness Comparison by Portfolio Size\u001b[39m\u001b[33m\"\u001b[39m)\n\u001b[32m      5\u001b[39m plt.xlabel(\u001b[33m\"\u001b[39m\u001b[33mNumber of Assets\u001b[39m\u001b[33m\"\u001b[39m)\n",
      "\u001b[31mNameError\u001b[39m: name 'combined_results' is not defined"
     ]
    },
    {
     "data": {
      "text/plain": [
       "<Figure size 1200x800 with 0 Axes>"
      ]
     },
     "metadata": {},
     "output_type": "display_data"
    }
   ],
   "source": [
    "# Plot fitness boxplots\n",
    "plt.figure(figsize=(12, 8))\n",
    "sns.boxplot(x=\"num_companies\", y=\"sharpe_ratio\", hue=\"algorithm\", data=combined_results, palette={\"GA\": \"blue\", \"PSO\": \"orange\"})\n",
    "plt.title(\"Fitness Comparison by Portfolio Size\")\n",
    "plt.xlabel(\"Number of Assets\")\n",
    "plt.ylabel(\"Sharpe Ratio\")\n",
    "plt.legend(title=\"Algorithm\")\n",
    "plt.show()\n",
    "\n",
    "# Plot evaluations boxplots\n",
    "plt.figure(figsize=(12, 8))\n",
    "sns.boxplot(x=\"num_companies\", y=\"n_evaluations\", hue=\"algorithm\", data=combined_results, palette={\"GA\": \"blue\", \"PSO\": \"orange\"})\n",
    "plt.title(\"Evaluations Comparison by Portfolio Size\")\n",
    "plt.xlabel(\"Number of Assets\")\n",
    "plt.ylabel(\"Number of Evaluations\")\n",
    "plt.legend(title=\"Algorithm\")\n",
    "plt.show()"
   ]
  },
  {
   "cell_type": "markdown",
   "id": "a9756752",
   "metadata": {},
   "source": [
    "## Wilcoxon Signed-Rank Test for Pairwise Comparison"
   ]
  },
  {
   "cell_type": "code",
   "execution_count": null,
   "id": "b3c648df",
   "metadata": {},
   "outputs": [],
   "source": [
    "alpha = 0.05\n",
    "\n",
    "# Iterate over unique portfolio sizes\n",
    "for num_companies in combined_results[\"num_companies\"].unique():\n",
    "    print(f\"\\nPortfolio Size: {num_companies}\")\n",
    "\n",
    "    # Filter results for the current portfolio size\n",
    "    ga_data = combined_results[(combined_results[\"num_companies\"] == num_companies) & (combined_results[\"algorithm\"] == \"GA\")]\n",
    "    pso_data = combined_results[(combined_results[\"num_companies\"] == num_companies) & (combined_results[\"algorithm\"] == \"PSO\")]\n",
    "\n",
    "    # Perform Wilcoxon test for fitness\n",
    "    stat, p_value = wilcoxon(ga_data[\"sharpe_ratio\"], pso_data[\"sharpe_ratio\"])\n",
    "    print(f\"Fitness - GA Mean: {ga_data['sharpe_ratio'].mean():.4f}, PSO Mean: {pso_data['sharpe_ratio'].mean():.4f}\")\n",
    "    print(\"The difference in fitness is statistically significant.\" if p_value < alpha else \"The difference in fitness is NOT statistically significant.\")\n",
    "\n",
    "    # Perform Wilcoxon test for evaluations\n",
    "    stat, p_value = wilcoxon(ga_data[\"n_evaluations\"], pso_data[\"n_evaluations\"])\n",
    "    print(f\"Evaluations - GA Mean: {ga_data['n_evaluations'].mean():.4f}, PSO Mean: {pso_data['n_evaluations'].mean():.4f}\")\n",
    "    print(\"The difference in evaluations is statistically significant.\" if p_value < alpha else \"The difference in evaluations is NOT statistically significant.\")\n"
   ]
  },
  {
   "cell_type": "markdown",
   "id": "92abff3d",
   "metadata": {},
   "source": [
    "## Friedman Test for Overall Algorithm Comparison"
   ]
  },
  {
   "cell_type": "code",
   "execution_count": null,
   "id": "232fd963",
   "metadata": {},
   "outputs": [],
   "source": [
    "from scipy.stats import friedmanchisquare\n",
    "\n",
    "# Prepare data for Friedman test\n",
    "fitness_data = [\n",
    "    combined_results[(combined_results[\"num_companies\"] == num_companies) & (combined_results[\"algorithm\"] == \"GA\")][\"sharpe_ratio\"].values\n",
    "    for num_companies in combined_results[\"num_companies\"].unique()\n",
    "] + [\n",
    "    combined_results[(combined_results[\"num_companies\"] == num_companies) & (combined_results[\"algorithm\"] == \"PSO\")][\"sharpe_ratio\"].values\n",
    "    for num_companies in combined_results[\"num_companies\"].unique()\n",
    "]\n",
    "\n",
    "# Perform Friedman test for fitness\n",
    "stat, p_value = friedmanchisquare(*fitness_data)\n",
    "print(\"Friedman Test for Fitness\")\n",
    "print(f\"Statistic: {stat:.4f}, P-Value: {p_value:.4f}\")\n",
    "print(\"The difference in fitness across algorithms is statistically significant.\" if p_value < alpha else \"The difference in fitness across algorithms is NOT statistically significant.\")"
   ]
  },
  {
   "cell_type": "markdown",
   "id": "4b76a048",
   "metadata": {},
   "source": [
    "## Fine-Tuning"
   ]
  },
  {
   "cell_type": "code",
   "execution_count": 22,
   "id": "b27fdd8a",
   "metadata": {},
   "outputs": [
    {
     "name": "stdout",
     "output_type": "stream",
     "text": [
      "Loading selected configurations from: c:\\Users\\lara\\BAO_Portfolio-Optimization-Problem\\experiments\\results\\selected_configs.csv\n",
      "Performing statistical comparisons...\n",
      "Wilcoxon Test between GA and PSO: statistic=0.0000, p-value=0.2500\n",
      "Friedman test requires at least 3 sets of configurations. Skipping Friedman test.\n"
     ]
    }
   ],
   "source": [
    "from scipy.stats import wilcoxon, friedmanchisquare, ttest_rel, shapiro\n",
    "\n",
    "# Compare configurations using statistical tests\n",
    "def compare_configs(df):\n",
    "    print(\"Performing statistical comparisons...\")\n",
    "    try:\n",
    "        # Pivot the DataFrame to compare algorithms by quality\n",
    "        sharpe_values = df.pivot(index=\"quality\", columns=\"algorithm\", values=\"mean_sharpe\")\n",
    "\n",
    "        # Check if both algorithms are present\n",
    "        if \"GA\" not in sharpe_values.columns or \"PSO\" not in sharpe_values.columns:\n",
    "            print(\"One of the algorithms (GA or PSO) is missing from the selected configurations.\")\n",
    "            print(\"Statistical comparison cannot be performed without both algorithms.\")\n",
    "            return\n",
    "\n",
    "        # Ensure both columns have equal length\n",
    "        if len(sharpe_values[\"GA\"]) != len(sharpe_values[\"PSO\"]):\n",
    "            print(\"❌ GA and PSO configurations have unequal lengths, skipping paired tests.\")\n",
    "        else:\n",
    "            # Check for normality using Shapiro-Wilk test\n",
    "            normal_ga = shapiro(sharpe_values[\"GA\"]).pvalue > 0.05\n",
    "            normal_pso = shapiro(sharpe_values[\"PSO\"]).pvalue > 0.05\n",
    "            \n",
    "            if normal_ga and normal_pso:\n",
    "                try:\n",
    "                    # Perform Paired t-test\n",
    "                    stat, p_value = ttest_rel(sharpe_values[\"GA\"], sharpe_values[\"PSO\"])\n",
    "                    print(f\"Paired t-test between GA and PSO: statistic={stat:.4f}, p-value={p_value:.4f}\")\n",
    "                except Exception as e:\n",
    "                    print(f\"❌ Error during t-test: {e}\")\n",
    "            else:\n",
    "                try:\n",
    "                    # Fallback to Wilcoxon if normality is not met\n",
    "                    stat, p_value = wilcoxon(sharpe_values[\"GA\"], sharpe_values[\"PSO\"])\n",
    "                    print(f\"Wilcoxon Test between GA and PSO: statistic={stat:.4f}, p-value={p_value:.4f}\")\n",
    "                except Exception as e:\n",
    "                    print(f\"❌ Error during Wilcoxon test: {e}\")\n",
    "\n",
    "        # Check the number of configurations before performing Friedman Test\n",
    "        if len(sharpe_values.columns) < 3:\n",
    "            print(\"Friedman test requires at least 3 sets of configurations. Skipping Friedman test.\")\n",
    "            return\n",
    "        \n",
    "        # Perform the Friedman Test across all available configurations\n",
    "        try:\n",
    "            stat, p_value = friedmanchisquare(*[sharpe_values[algo].dropna() for algo in sharpe_values.columns])\n",
    "            print(f\"Friedman Test across configurations: statistic={stat:.4f}, p-value={p_value:.4f}\")\n",
    "        except Exception as e:\n",
    "            print(f\"❌ Error during Friedman test: {e}\")\n",
    "\n",
    "    except Exception as e:\n",
    "        print(f\"❌ Error during statistical comparison setup: {e}\")\n",
    "\n",
    "\n",
    "# Load the selected configurations and compare\n",
    "try:\n",
    "    file_path = get_results_path(\"selected_configs.csv\")\n",
    "    print(f\"Loading selected configurations from: {file_path}\")\n",
    "    selected_configs = pd.read_csv(file_path)\n",
    "    compare_configs(selected_configs)\n",
    "except FileNotFoundError:\n",
    "    print(\"❌ Selected configurations not found.\")"
   ]
  }
 ],
 "metadata": {
  "kernelspec": {
   "display_name": ".venv",
   "language": "python",
   "name": "python3"
  },
  "language_info": {
   "codemirror_mode": {
    "name": "ipython",
    "version": 3
   },
   "file_extension": ".py",
   "mimetype": "text/x-python",
   "name": "python",
   "nbconvert_exporter": "python",
   "pygments_lexer": "ipython3",
   "version": "3.12.7"
  }
 },
 "nbformat": 4,
 "nbformat_minor": 5
}
