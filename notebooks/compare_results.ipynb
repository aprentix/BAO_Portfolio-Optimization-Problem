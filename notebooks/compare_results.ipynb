{
 "cells": [
  {
   "cell_type": "markdown",
   "id": "d9ee3d44",
   "metadata": {},
   "source": [
    "# GA & PSO Comparison"
   ]
  },
  {
   "cell_type": "code",
   "execution_count": null,
   "id": "2222d8f9",
   "metadata": {},
   "outputs": [],
   "source": [
    "import pandas as pd\n",
    "from scipy.stats import wilcoxon\n",
    "import matplotlib.pyplot as plt\n",
    "import seaborn as sns\n",
    "sns.set_theme(style=\"whitegrid\")"
   ]
  },
  {
   "cell_type": "markdown",
   "id": "e163c5c2",
   "metadata": {},
   "source": [
    "## Load GA & PSO Results"
   ]
  },
  {
   "cell_type": "code",
   "execution_count": null,
   "id": "85b7759a",
   "metadata": {},
   "outputs": [],
   "source": [
    "# Paths to results\n",
    "GA_RESULTS_PATH = \"experiments/results/ga/\"\n",
    "PSO_RESULTS_PATH = \"experiments/results/pso/\"\n",
    "\n",
    "# Load results\n",
    "ga_results = pd.read_csv(GA_RESULTS_PATH)\n",
    "pso_results = pd.read_csv(PSO_RESULTS_PATH)\n",
    "\n",
    "# Add algorithm labels\n",
    "ga_results[\"algorithm\"] = \"GA\"\n",
    "pso_results[\"algorithm\"] = \"PSO\"\n",
    "\n",
    "# Combine results\n",
    "combined_results = pd.concat([ga_results, pso_results], ignore_index=True)"
   ]
  },
  {
   "cell_type": "markdown",
   "id": "440edd14",
   "metadata": {},
   "source": [
    "## Plot Boxplots for Fitness & Evaluations"
   ]
  },
  {
   "cell_type": "code",
   "execution_count": null,
   "id": "82a3de3b",
   "metadata": {},
   "outputs": [],
   "source": [
    "# Plot fitness boxplots\n",
    "plt.figure(figsize=(12, 8))\n",
    "sns.boxplot(x=\"num_companies\", y=\"sharpe_ratio\", hue=\"algorithm\", data=combined_results, palette={\"GA\": \"blue\", \"PSO\": \"orange\"})\n",
    "plt.title(\"Fitness Comparison by Portfolio Size\")\n",
    "plt.xlabel(\"Number of Assets\")\n",
    "plt.ylabel(\"Sharpe Ratio\")\n",
    "plt.legend(title=\"Algorithm\")\n",
    "plt.show()\n",
    "\n",
    "# Plot evaluations boxplots\n",
    "plt.figure(figsize=(12, 8))\n",
    "sns.boxplot(x=\"num_companies\", y=\"n_evaluations\", hue=\"algorithm\", data=combined_results, palette={\"GA\": \"blue\", \"PSO\": \"orange\"})\n",
    "plt.title(\"Evaluations Comparison by Portfolio Size\")\n",
    "plt.xlabel(\"Number of Assets\")\n",
    "plt.ylabel(\"Number of Evaluations\")\n",
    "plt.legend(title=\"Algorithm\")\n",
    "plt.show()"
   ]
  },
  {
   "cell_type": "markdown",
   "id": "a9756752",
   "metadata": {},
   "source": [
    "## Wilcoxon Signed-Rank Test for Pairwise Comparison"
   ]
  },
  {
   "cell_type": "code",
   "execution_count": null,
   "id": "b3c648df",
   "metadata": {},
   "outputs": [],
   "source": [
    "alpha = 0.05\n",
    "\n",
    "# Iterate over unique portfolio sizes\n",
    "for num_companies in combined_results[\"num_companies\"].unique():\n",
    "    print(f\"\\nPortfolio Size: {num_companies}\")\n",
    "\n",
    "    # Filter results for the current portfolio size\n",
    "    ga_data = combined_results[(combined_results[\"num_companies\"] == num_companies) & (combined_results[\"algorithm\"] == \"GA\")]\n",
    "    pso_data = combined_results[(combined_results[\"num_companies\"] == num_companies) & (combined_results[\"algorithm\"] == \"PSO\")]\n",
    "\n",
    "    # Perform Wilcoxon test for fitness\n",
    "    stat, p_value = wilcoxon(ga_data[\"sharpe_ratio\"], pso_data[\"sharpe_ratio\"])\n",
    "    print(f\"Fitness - GA Mean: {ga_data['sharpe_ratio'].mean():.4f}, PSO Mean: {pso_data['sharpe_ratio'].mean():.4f}\")\n",
    "    print(\"The difference in fitness is statistically significant.\" if p_value < alpha else \"The difference in fitness is NOT statistically significant.\")\n",
    "\n",
    "    # Perform Wilcoxon test for evaluations\n",
    "    stat, p_value = wilcoxon(ga_data[\"n_evaluations\"], pso_data[\"n_evaluations\"])\n",
    "    print(f\"Evaluations - GA Mean: {ga_data['n_evaluations'].mean():.4f}, PSO Mean: {pso_data['n_evaluations'].mean():.4f}\")\n",
    "    print(\"The difference in evaluations is statistically significant.\" if p_value < alpha else \"The difference in evaluations is NOT statistically significant.\")\n"
   ]
  },
  {
   "cell_type": "markdown",
   "id": "92abff3d",
   "metadata": {},
   "source": [
    "## Friedman Test for Overall Algorithm Comparison"
   ]
  },
  {
   "cell_type": "code",
   "execution_count": null,
   "id": "232fd963",
   "metadata": {},
   "outputs": [],
   "source": [
    "from scipy.stats import friedmanchisquare\n",
    "\n",
    "# Prepare data for Friedman test\n",
    "fitness_data = [\n",
    "    combined_results[(combined_results[\"num_companies\"] == num_companies) & (combined_results[\"algorithm\"] == \"GA\")][\"sharpe_ratio\"].values\n",
    "    for num_companies in combined_results[\"num_companies\"].unique()\n",
    "] + [\n",
    "    combined_results[(combined_results[\"num_companies\"] == num_companies) & (combined_results[\"algorithm\"] == \"PSO\")][\"sharpe_ratio\"].values\n",
    "    for num_companies in combined_results[\"num_companies\"].unique()\n",
    "]\n",
    "\n",
    "# Perform Friedman test for fitness\n",
    "stat, p_value = friedmanchisquare(*fitness_data)\n",
    "print(\"Friedman Test for Fitness\")\n",
    "print(f\"Statistic: {stat:.4f}, P-Value: {p_value:.4f}\")\n",
    "print(\"The difference in fitness across algorithms is statistically significant.\" if p_value < alpha else \"The difference in fitness across algorithms is NOT statistically significant.\")"
   ]
  }
 ],
 "metadata": {
  "kernelspec": {
   "display_name": ".venv",
   "language": "python",
   "name": "python3"
  },
  "language_info": {
   "codemirror_mode": {
    "name": "ipython",
    "version": 3
   },
   "file_extension": ".py",
   "mimetype": "text/x-python",
   "name": "python",
   "nbconvert_exporter": "python",
   "pygments_lexer": "ipython3",
   "version": "3.12.0"
  }
 },
 "nbformat": 4,
 "nbformat_minor": 5
}
